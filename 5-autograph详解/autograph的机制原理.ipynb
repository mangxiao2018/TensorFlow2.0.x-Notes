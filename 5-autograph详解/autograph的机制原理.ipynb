{
 "cells": [
  {
   "cell_type": "markdown",
   "metadata": {},
   "source": [
    "当我们使用@tf.function装饰一个函数的时候，后面的逻辑到底发生了什么？\n",
    "\n",
    "例如下面的代码："
   ]
  },
  {
   "cell_type": "code",
   "execution_count": null,
   "metadata": {},
   "outputs": [],
   "source": [
    "import tensorflow as tf\n",
    "import numpy as np\n",
    "\n",
    "\n",
    "@tf.function(autograph=True)\n",
    "def myadd(a,b):\n",
    "    for i in tf.range(3):\n",
    "        tf.print(i)\n",
    "    c  = a + b\n",
    "    print(\"tracing\")\n",
    "    return c"
   ]
  },
  {
   "cell_type": "code",
   "execution_count": null,
   "metadata": {},
   "outputs": [],
   "source": [
    "# 在使用TensorFlow的AutoGraph的时候出现了一些问题，特此记录\n",
    "\n",
    "# AutoGraph did not convert this function. Try decorating it directly with @tf.function()\n",
    "# WARNING:  export AUTOGRAPH_VERBOSITY=10 \n",
    "\n",
    "# 是因为AutoGraph需要gast，而gast升级到了最新的0.3.2，所以解决方法也比较简单，把gast降下去\n",
    "# pip install gast==0.2.2\n",
    "myadd(tf.constant(\"hello\"), tf.constant(\"world\"))"
   ]
  },
  {
   "cell_type": "markdown",
   "metadata": {},
   "source": [
    "发生了2件事：\n",
    "- 第一件事情是创建了计算图\n",
    "- 第二件事情是执行了计算图\n",
    "\n",
    "因此我们先看到的是第一步的结果，即Python调用标准输出流打印\"tracing\"语句。\n",
    "\n",
    "然后看到第二步的结果：TensorFlow 调用标准输出流打印1,2,3"
   ]
  },
  {
   "cell_type": "code",
   "execution_count": null,
   "metadata": {},
   "outputs": [],
   "source": []
  }
 ],
 "metadata": {
  "kernelspec": {
   "display_name": "Python 3",
   "language": "python",
   "name": "python3"
  },
  "language_info": {
   "codemirror_mode": {
    "name": "ipython",
    "version": 3
   },
   "file_extension": ".py",
   "mimetype": "text/x-python",
   "name": "python",
   "nbconvert_exporter": "python",
   "pygments_lexer": "ipython3",
   "version": "3.7.7"
  }
 },
 "nbformat": 4,
 "nbformat_minor": 4
}
