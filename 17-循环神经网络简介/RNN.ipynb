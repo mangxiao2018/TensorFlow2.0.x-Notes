{
 "cells": [
  {
   "cell_type": "code",
   "execution_count": 3,
   "metadata": {},
   "outputs": [
    {
     "data": {
      "text/plain": [
       "((10, 100, 50), (10, 100, 100))"
      ]
     },
     "execution_count": 3,
     "metadata": {},
     "output_type": "execute_result"
    }
   ],
   "source": [
    "import numpy as np\n",
    "\n",
    "class RNN:\n",
    "    def __init__(self,word_dim,hidden_dim=100,output_dim=50):\n",
    "        self.word_diim = word_dim\n",
    "        self.hidden_dim = hidden_dim\n",
    "        self.output_dim = output_dim\n",
    "        self.U = np.random.uniform(-np.sqrt(1. / word_dim), np.sqrt(1. / word_dim),(word_dim, hidden_dim)) # d*h\n",
    "        self.W = np.random.uniform(-np.sqrt(1. / hidden_dim), np.sqrt(1. / hidden_dim),(hidden_dim, hidden_dim)) # h*h\n",
    "        self.V = np.random.uniform(-np.sqrt(1. / hidden_dim), np.sqrt(1. / hidden_dim),(hidden_dim, output_dim)) # h*q\n",
    "    def forward_propagation(self, x):\n",
    "        # Train steps\n",
    "        T = x.shape[1]\n",
    "        N = x.shape[0]\n",
    "        # hidden states 初始化为0\n",
    "        s = np.zeros((N,T,self.hidden_dim))\n",
    "        # output zeros\n",
    "        o = np.zeros((N,T,self.output_dim))\n",
    "        # output zeros\n",
    "        for t in range(T):\n",
    "            s[:,t,:] = np.tan(x[:,t,:].dot(self.U) + s[:,t-1,:].dot(self.W)) #n*h\n",
    "            o[:,t,:] = self.softmax(s[:,t,:].dot(self.V))\n",
    "            return [o,s]\n",
    "    def softmax(self,x):\n",
    "        exp_x = np.exp(x)\n",
    "        softmax_x =  exp_x / np.sum(exp_x)\n",
    "        return softmax_x\n",
    "\n",
    "x = np.random.uniform(-0.5,0.5,(10,100,20))\n",
    "rnn = RNN(20)\n",
    "o_,s_ = rnn.forward_propagation(x)\n",
    "o_.shape,s_.shape"
   ]
  },
  {
   "cell_type": "code",
   "execution_count": null,
   "metadata": {},
   "outputs": [],
   "source": []
  }
 ],
 "metadata": {
  "kernelspec": {
   "display_name": "Python 3",
   "language": "python",
   "name": "python3"
  },
  "language_info": {
   "codemirror_mode": {
    "name": "ipython",
    "version": 3
   },
   "file_extension": ".py",
   "mimetype": "text/x-python",
   "name": "python",
   "nbconvert_exporter": "python",
   "pygments_lexer": "ipython3",
   "version": "3.7.7"
  }
 },
 "nbformat": 4,
 "nbformat_minor": 4
}
