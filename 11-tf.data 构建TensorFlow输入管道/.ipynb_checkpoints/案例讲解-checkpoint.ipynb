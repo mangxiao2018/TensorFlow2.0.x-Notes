{
 "cells": [
  {
   "cell_type": "code",
   "execution_count": 1,
   "metadata": {},
   "outputs": [
    {
     "name": "stdout",
     "output_type": "stream",
     "text": [
      "2.2.0\n"
     ]
    }
   ],
   "source": [
    "import tensorflow as tf\n",
    "print(tf.__version__)"
   ]
  },
  {
   "cell_type": "code",
   "execution_count": 2,
   "metadata": {},
   "outputs": [
    {
     "data": {
      "text/plain": [
       "[]"
      ]
     },
     "execution_count": 2,
     "metadata": {},
     "output_type": "execute_result"
    }
   ],
   "source": [
    "tf.config.list_physical_devices('GPU')"
   ]
  },
  {
   "cell_type": "code",
   "execution_count": 3,
   "metadata": {},
   "outputs": [
    {
     "name": "stdout",
     "output_type": "stream",
     "text": [
      "WARNING:tensorflow:From <ipython-input-3-17bb7203622b>:1: is_gpu_available (from tensorflow.python.framework.test_util) is deprecated and will be removed in a future version.\n",
      "Instructions for updating:\n",
      "Use `tf.config.list_physical_devices('GPU')` instead.\n"
     ]
    },
    {
     "data": {
      "text/plain": [
       "False"
      ]
     },
     "execution_count": 3,
     "metadata": {},
     "output_type": "execute_result"
    }
   ],
   "source": [
    "tf.test.is_gpu_available()"
   ]
  },
  {
   "cell_type": "code",
   "execution_count": 4,
   "metadata": {},
   "outputs": [],
   "source": [
    "import tensorflow as tf\n",
    "#Dense\n",
    "class MyDense(tf.keras.layers.Layer):\n",
    "    def __init__(self, units=32, **kwargs):\n",
    "        self.units = units\n",
    "        super(MyDense, self).__init__(**kwargs)\n",
    "\n",
    "    #build方法一般定义Layer需要被训练的参数。    \n",
    "    def build(self, input_shape): \n",
    "        self.w = self.add_weight(shape=(input_shape[-1], self.units),\n",
    "                                 initializer='random_normal',\n",
    "                                 trainable=True,\n",
    "                                 name='w')\n",
    "        self.b = self.add_weight(shape=(self.units,),\n",
    "                                 initializer='random_normal',\n",
    "                                 trainable=True,\n",
    "                                 name='b')\n",
    "        super(MyDense,self).build(input_shape) # 相当于设置self.built = True\n",
    "\n",
    "    #call方法一般定义正向传播运算逻辑，__call__方法调用了它。    \n",
    "    def call(self, inputs): \n",
    "        return tf.matmul(inputs, self.w) + self.b\n",
    "\n",
    "    #如果要让自定义的Layer通过Functional API 组合成模型时可以序列化，需要自定义get_config方法。\n",
    "    def get_config(self):  \n",
    "        config = super(MyDense, self).get_config()\n",
    "        config.update({'units': self.units})\n",
    "        return config"
   ]
  },
  {
   "cell_type": "code",
   "execution_count": 5,
   "metadata": {},
   "outputs": [],
   "source": [
    "from sklearn import datasets\n",
    "iris = datasets.load_iris()\n",
    "data = iris.data\n",
    "labels = iris.target\n",
    "# from sklearn.preprocessing import MinMaxScaler\n",
    "# data=MinMaxScaler().fit_transform(data)"
   ]
  },
  {
   "cell_type": "code",
   "execution_count": 6,
   "metadata": {},
   "outputs": [
    {
     "data": {
      "text/plain": [
       "array([[5.1, 3.5, 1.4, 0.2],\n",
       "       [4.9, 3. , 1.4, 0.2],\n",
       "       [4.7, 3.2, 1.3, 0.2],\n",
       "       [4.6, 3.1, 1.5, 0.2],\n",
       "       [5. , 3.6, 1.4, 0.2]])"
      ]
     },
     "execution_count": 6,
     "metadata": {},
     "output_type": "execute_result"
    }
   ],
   "source": [
    "data[:5]"
   ]
  },
  {
   "cell_type": "code",
   "execution_count": 7,
   "metadata": {},
   "outputs": [
    {
     "data": {
      "text/plain": [
       "array([0, 0, 0, 0, 0, 0, 0, 0, 0, 0, 0, 0, 0, 0, 0, 0, 0, 0, 0, 0, 0, 0,\n",
       "       0, 0, 0, 0, 0, 0, 0, 0, 0, 0, 0, 0, 0, 0, 0, 0, 0, 0, 0, 0, 0, 0,\n",
       "       0, 0, 0, 0, 0, 0, 1, 1, 1, 1, 1, 1, 1, 1, 1, 1, 1, 1, 1, 1, 1, 1,\n",
       "       1, 1, 1, 1, 1, 1, 1, 1, 1, 1, 1, 1, 1, 1, 1, 1, 1, 1, 1, 1, 1, 1,\n",
       "       1, 1, 1, 1, 1, 1, 1, 1, 1, 1, 1, 1, 2, 2, 2, 2, 2, 2, 2, 2, 2, 2,\n",
       "       2, 2, 2, 2, 2, 2, 2, 2, 2, 2, 2, 2, 2, 2, 2, 2, 2, 2, 2, 2, 2, 2,\n",
       "       2, 2, 2, 2, 2, 2, 2, 2, 2, 2, 2, 2, 2, 2, 2, 2, 2, 2])"
      ]
     },
     "execution_count": 7,
     "metadata": {},
     "output_type": "execute_result"
    }
   ],
   "source": [
    "labels#(150,3)"
   ]
  },
  {
   "cell_type": "code",
   "execution_count": 8,
   "metadata": {},
   "outputs": [],
   "source": [
    "#网络   函数式构建的网络\n",
    "inputs = tf.keras.Input(shape=(4,))  \n",
    "x = MyDense(units=16)(inputs) \n",
    "x = tf.nn.tanh(x) \n",
    "x = MyDense(units=3)(x) #0,1,2\n",
    "# x= tf.keras.layers.Dense(16)(x)\n",
    "predictions = tf.nn.softmax(x)\n",
    "model = tf.keras.Model(inputs=inputs, outputs=predictions)\n"
   ]
  },
  {
   "cell_type": "code",
   "execution_count": 9,
   "metadata": {},
   "outputs": [],
   "source": [
    "#shuffle:"
   ]
  },
  {
   "cell_type": "code",
   "execution_count": 10,
   "metadata": {},
   "outputs": [],
   "source": [
    "import numpy as np"
   ]
  },
  {
   "cell_type": "code",
   "execution_count": 11,
   "metadata": {},
   "outputs": [],
   "source": [
    "data = np.concatenate((data,labels.reshape(150,1)),axis=-1)\n",
    "np.random.shuffle(data)"
   ]
  },
  {
   "cell_type": "code",
   "execution_count": 12,
   "metadata": {},
   "outputs": [],
   "source": [
    "labels = data[:,-1]\n",
    "data = data[:,:4]"
   ]
  },
  {
   "cell_type": "code",
   "execution_count": 13,
   "metadata": {},
   "outputs": [],
   "source": [
    "#labels  ==[1,0,0]"
   ]
  },
  {
   "cell_type": "code",
   "execution_count": 14,
   "metadata": {},
   "outputs": [
    {
     "name": "stdout",
     "output_type": "stream",
     "text": [
      "Epoch 1/100\n",
      "5/5 [==============================] - 0s 3ms/step - loss: 1.1004 - sparse_categorical_accuracy: 0.3333\n",
      "Epoch 2/100\n",
      "5/5 [==============================] - 0s 797us/step - loss: 1.0976 - sparse_categorical_accuracy: 0.3333\n",
      "Epoch 3/100\n",
      "5/5 [==============================] - 0s 798us/step - loss: 1.0950 - sparse_categorical_accuracy: 0.3333\n",
      "Epoch 4/100\n",
      "5/5 [==============================] - 0s 997us/step - loss: 1.0925 - sparse_categorical_accuracy: 0.3333\n",
      "Epoch 5/100\n",
      "5/5 [==============================] - 0s 598us/step - loss: 1.0900 - sparse_categorical_accuracy: 0.3333\n",
      "Epoch 6/100\n",
      "5/5 [==============================] - 0s 997us/step - loss: 1.0871 - sparse_categorical_accuracy: 0.3200\n",
      "Epoch 7/100\n",
      "5/5 [==============================] - 0s 598us/step - loss: 1.0843 - sparse_categorical_accuracy: 0.3467\n",
      "Epoch 8/100\n",
      "5/5 [==============================] - 0s 997us/step - loss: 1.0810 - sparse_categorical_accuracy: 0.3533\n",
      "Epoch 9/100\n",
      "5/5 [==============================] - 0s 798us/step - loss: 1.0776 - sparse_categorical_accuracy: 0.3400\n",
      "Epoch 10/100\n",
      "5/5 [==============================] - 0s 599us/step - loss: 1.0736 - sparse_categorical_accuracy: 0.3867\n",
      "Epoch 11/100\n",
      "5/5 [==============================] - 0s 4ms/step - loss: 1.0692 - sparse_categorical_accuracy: 0.5467\n",
      "Epoch 12/100\n",
      "5/5 [==============================] - 0s 798us/step - loss: 1.0641 - sparse_categorical_accuracy: 0.6400\n",
      "Epoch 13/100\n",
      "5/5 [==============================] - 0s 4ms/step - loss: 1.0583 - sparse_categorical_accuracy: 0.6600\n",
      "Epoch 14/100\n",
      "5/5 [==============================] - 0s 997us/step - loss: 1.0520 - sparse_categorical_accuracy: 0.6667\n",
      "Epoch 15/100\n",
      "5/5 [==============================] - 0s 598us/step - loss: 1.0448 - sparse_categorical_accuracy: 0.6667\n",
      "Epoch 16/100\n",
      "5/5 [==============================] - 0s 798us/step - loss: 1.0371 - sparse_categorical_accuracy: 0.6667\n",
      "Epoch 17/100\n",
      "5/5 [==============================] - 0s 798us/step - loss: 1.0276 - sparse_categorical_accuracy: 0.6667\n",
      "Epoch 18/100\n",
      "5/5 [==============================] - 0s 798us/step - loss: 1.0182 - sparse_categorical_accuracy: 0.6667\n",
      "Epoch 19/100\n",
      "5/5 [==============================] - 0s 798us/step - loss: 1.0076 - sparse_categorical_accuracy: 0.6667\n",
      "Epoch 20/100\n",
      "5/5 [==============================] - 0s 598us/step - loss: 0.9965 - sparse_categorical_accuracy: 0.6667\n",
      "Epoch 21/100\n",
      "5/5 [==============================] - 0s 997us/step - loss: 0.9844 - sparse_categorical_accuracy: 0.6667\n",
      "Epoch 22/100\n",
      "5/5 [==============================] - 0s 798us/step - loss: 0.9725 - sparse_categorical_accuracy: 0.6667\n",
      "Epoch 23/100\n",
      "5/5 [==============================] - 0s 798us/step - loss: 0.9604 - sparse_categorical_accuracy: 0.6667\n",
      "Epoch 24/100\n",
      "5/5 [==============================] - 0s 798us/step - loss: 0.9486 - sparse_categorical_accuracy: 0.6667\n",
      "Epoch 25/100\n",
      "5/5 [==============================] - 0s 599us/step - loss: 0.9370 - sparse_categorical_accuracy: 0.6667\n",
      "Epoch 26/100\n",
      "5/5 [==============================] - 0s 798us/step - loss: 0.9255 - sparse_categorical_accuracy: 0.6667\n",
      "Epoch 27/100\n",
      "5/5 [==============================] - 0s 599us/step - loss: 0.9148 - sparse_categorical_accuracy: 0.6667\n",
      "Epoch 28/100\n",
      "5/5 [==============================] - 0s 598us/step - loss: 0.9053 - sparse_categorical_accuracy: 0.6667\n",
      "Epoch 29/100\n",
      "5/5 [==============================] - 0s 798us/step - loss: 0.8964 - sparse_categorical_accuracy: 0.6667\n",
      "Epoch 30/100\n",
      "5/5 [==============================] - 0s 798us/step - loss: 0.8873 - sparse_categorical_accuracy: 0.6667\n",
      "Epoch 31/100\n",
      "5/5 [==============================] - 0s 798us/step - loss: 0.8798 - sparse_categorical_accuracy: 0.6667\n",
      "Epoch 32/100\n",
      "5/5 [==============================] - 0s 798us/step - loss: 0.8726 - sparse_categorical_accuracy: 0.6667\n",
      "Epoch 33/100\n",
      "5/5 [==============================] - 0s 598us/step - loss: 0.8662 - sparse_categorical_accuracy: 0.6667\n",
      "Epoch 34/100\n",
      "5/5 [==============================] - 0s 598us/step - loss: 0.8603 - sparse_categorical_accuracy: 0.6667\n",
      "Epoch 35/100\n",
      "5/5 [==============================] - 0s 3ms/step - loss: 0.8549 - sparse_categorical_accuracy: 0.6667\n",
      "Epoch 36/100\n",
      "5/5 [==============================] - 0s 798us/step - loss: 0.8499 - sparse_categorical_accuracy: 0.6667\n",
      "Epoch 37/100\n",
      "5/5 [==============================] - 0s 798us/step - loss: 0.8453 - sparse_categorical_accuracy: 0.6667\n",
      "Epoch 38/100\n",
      "5/5 [==============================] - 0s 598us/step - loss: 0.8411 - sparse_categorical_accuracy: 0.6667\n",
      "Epoch 39/100\n",
      "5/5 [==============================] - 0s 598us/step - loss: 0.8371 - sparse_categorical_accuracy: 0.6667\n",
      "Epoch 40/100\n",
      "5/5 [==============================] - 0s 798us/step - loss: 0.8333 - sparse_categorical_accuracy: 0.6667\n",
      "Epoch 41/100\n",
      "5/5 [==============================] - 0s 598us/step - loss: 0.8297 - sparse_categorical_accuracy: 0.6667\n",
      "Epoch 42/100\n",
      "5/5 [==============================] - 0s 998us/step - loss: 0.8263 - sparse_categorical_accuracy: 0.6667\n",
      "Epoch 43/100\n",
      "5/5 [==============================] - 0s 798us/step - loss: 0.8230 - sparse_categorical_accuracy: 0.6667\n",
      "Epoch 44/100\n",
      "5/5 [==============================] - 0s 598us/step - loss: 0.8200 - sparse_categorical_accuracy: 0.6733\n",
      "Epoch 45/100\n",
      "5/5 [==============================] - 0s 798us/step - loss: 0.8167 - sparse_categorical_accuracy: 0.6800\n",
      "Epoch 46/100\n",
      "5/5 [==============================] - 0s 798us/step - loss: 0.8139 - sparse_categorical_accuracy: 0.6800\n",
      "Epoch 47/100\n",
      "5/5 [==============================] - 0s 598us/step - loss: 0.8107 - sparse_categorical_accuracy: 0.6933\n",
      "Epoch 48/100\n",
      "5/5 [==============================] - 0s 598us/step - loss: 0.8076 - sparse_categorical_accuracy: 0.7000\n",
      "Epoch 49/100\n",
      "5/5 [==============================] - 0s 598us/step - loss: 0.8048 - sparse_categorical_accuracy: 0.7067\n",
      "Epoch 50/100\n",
      "5/5 [==============================] - 0s 798us/step - loss: 0.8018 - sparse_categorical_accuracy: 0.7200\n",
      "Epoch 51/100\n",
      "5/5 [==============================] - 0s 798us/step - loss: 0.7995 - sparse_categorical_accuracy: 0.7200\n",
      "Epoch 52/100\n",
      "5/5 [==============================] - 0s 598us/step - loss: 0.7962 - sparse_categorical_accuracy: 0.7467\n",
      "Epoch 53/100\n",
      "5/5 [==============================] - 0s 797us/step - loss: 0.7932 - sparse_categorical_accuracy: 0.8000\n",
      "Epoch 54/100\n",
      "5/5 [==============================] - 0s 599us/step - loss: 0.7902 - sparse_categorical_accuracy: 0.8333\n",
      "Epoch 55/100\n",
      "5/5 [==============================] - 0s 798us/step - loss: 0.7873 - sparse_categorical_accuracy: 0.8467\n",
      "Epoch 56/100\n",
      "5/5 [==============================] - 0s 798us/step - loss: 0.7843 - sparse_categorical_accuracy: 0.8467\n",
      "Epoch 57/100\n",
      "5/5 [==============================] - 0s 598us/step - loss: 0.7813 - sparse_categorical_accuracy: 0.8533\n",
      "Epoch 58/100\n",
      "5/5 [==============================] - 0s 798us/step - loss: 0.7783 - sparse_categorical_accuracy: 0.8733\n",
      "Epoch 59/100\n",
      "5/5 [==============================] - 0s 598us/step - loss: 0.7752 - sparse_categorical_accuracy: 0.9000\n",
      "Epoch 60/100\n",
      "5/5 [==============================] - 0s 798us/step - loss: 0.7721 - sparse_categorical_accuracy: 0.9133\n",
      "Epoch 61/100\n",
      "5/5 [==============================] - 0s 599us/step - loss: 0.7691 - sparse_categorical_accuracy: 0.9333\n",
      "Epoch 62/100\n",
      "5/5 [==============================] - 0s 798us/step - loss: 0.7661 - sparse_categorical_accuracy: 0.9533\n",
      "Epoch 63/100\n",
      "5/5 [==============================] - 0s 798us/step - loss: 0.7630 - sparse_categorical_accuracy: 0.9533\n",
      "Epoch 64/100\n",
      "5/5 [==============================] - 0s 598us/step - loss: 0.7599 - sparse_categorical_accuracy: 0.9533\n",
      "Epoch 65/100\n",
      "5/5 [==============================] - 0s 599us/step - loss: 0.7567 - sparse_categorical_accuracy: 0.9533\n",
      "Epoch 66/100\n",
      "5/5 [==============================] - 0s 998us/step - loss: 0.7537 - sparse_categorical_accuracy: 0.9533\n",
      "Epoch 67/100\n",
      "5/5 [==============================] - 0s 598us/step - loss: 0.7508 - sparse_categorical_accuracy: 0.9600\n",
      "Epoch 68/100\n",
      "5/5 [==============================] - 0s 598us/step - loss: 0.7476 - sparse_categorical_accuracy: 0.9667\n",
      "Epoch 69/100\n",
      "5/5 [==============================] - 0s 797us/step - loss: 0.7447 - sparse_categorical_accuracy: 0.9600\n",
      "Epoch 70/100\n",
      "5/5 [==============================] - 0s 798us/step - loss: 0.7413 - sparse_categorical_accuracy: 0.9667\n",
      "Epoch 71/100\n",
      "5/5 [==============================] - 0s 598us/step - loss: 0.7385 - sparse_categorical_accuracy: 0.9667\n",
      "Epoch 72/100\n",
      "5/5 [==============================] - 0s 598us/step - loss: 0.7355 - sparse_categorical_accuracy: 0.9667\n",
      "Epoch 73/100\n",
      "5/5 [==============================] - 0s 598us/step - loss: 0.7327 - sparse_categorical_accuracy: 0.9667\n",
      "Epoch 74/100\n",
      "5/5 [==============================] - 0s 998us/step - loss: 0.7296 - sparse_categorical_accuracy: 0.9667\n",
      "Epoch 75/100\n",
      "5/5 [==============================] - 0s 598us/step - loss: 0.7265 - sparse_categorical_accuracy: 0.9667\n",
      "Epoch 76/100\n",
      "5/5 [==============================] - 0s 598us/step - loss: 0.7237 - sparse_categorical_accuracy: 0.9667\n",
      "Epoch 77/100\n",
      "5/5 [==============================] - 0s 798us/step - loss: 0.7210 - sparse_categorical_accuracy: 0.9667\n",
      "Epoch 78/100\n",
      "5/5 [==============================] - 0s 2ms/step - loss: 0.7179 - sparse_categorical_accuracy: 0.9667\n",
      "Epoch 79/100\n",
      "5/5 [==============================] - 0s 798us/step - loss: 0.7157 - sparse_categorical_accuracy: 0.9667\n",
      "Epoch 80/100\n",
      "5/5 [==============================] - 0s 599us/step - loss: 0.7126 - sparse_categorical_accuracy: 0.9733\n",
      "Epoch 81/100\n",
      "5/5 [==============================] - 0s 798us/step - loss: 0.7099 - sparse_categorical_accuracy: 0.9667\n",
      "Epoch 82/100\n",
      "5/5 [==============================] - 0s 798us/step - loss: 0.7073 - sparse_categorical_accuracy: 0.9667\n",
      "Epoch 83/100\n",
      "5/5 [==============================] - 0s 798us/step - loss: 0.7050 - sparse_categorical_accuracy: 0.9667\n",
      "Epoch 84/100\n",
      "5/5 [==============================] - 0s 798us/step - loss: 0.7022 - sparse_categorical_accuracy: 0.9733\n",
      "Epoch 85/100\n",
      "5/5 [==============================] - 0s 3ms/step - loss: 0.7001 - sparse_categorical_accuracy: 0.9733\n",
      "Epoch 86/100\n",
      "5/5 [==============================] - 0s 797us/step - loss: 0.6973 - sparse_categorical_accuracy: 0.9733\n",
      "Epoch 87/100\n",
      "5/5 [==============================] - 0s 798us/step - loss: 0.6954 - sparse_categorical_accuracy: 0.9667\n",
      "Epoch 88/100\n",
      "5/5 [==============================] - 0s 599us/step - loss: 0.6933 - sparse_categorical_accuracy: 0.9667\n",
      "Epoch 89/100\n",
      "5/5 [==============================] - 0s 997us/step - loss: 0.6907 - sparse_categorical_accuracy: 0.9733\n",
      "Epoch 90/100\n",
      "5/5 [==============================] - 0s 598us/step - loss: 0.6885 - sparse_categorical_accuracy: 0.9733\n",
      "Epoch 91/100\n",
      "5/5 [==============================] - 0s 598us/step - loss: 0.6861 - sparse_categorical_accuracy: 0.9733\n",
      "Epoch 92/100\n",
      "5/5 [==============================] - 0s 997us/step - loss: 0.6840 - sparse_categorical_accuracy: 0.9733\n",
      "Epoch 93/100\n",
      "5/5 [==============================] - 0s 598us/step - loss: 0.6827 - sparse_categorical_accuracy: 0.9733\n",
      "Epoch 94/100\n",
      "5/5 [==============================] - 0s 4ms/step - loss: 0.6801 - sparse_categorical_accuracy: 0.9733\n",
      "Epoch 95/100\n",
      "5/5 [==============================] - 0s 798us/step - loss: 0.6779 - sparse_categorical_accuracy: 0.9733\n",
      "Epoch 96/100\n",
      "5/5 [==============================] - 0s 798us/step - loss: 0.6762 - sparse_categorical_accuracy: 0.9733\n",
      "Epoch 97/100\n",
      "5/5 [==============================] - 0s 798us/step - loss: 0.6747 - sparse_categorical_accuracy: 0.9733\n",
      "Epoch 98/100\n",
      "5/5 [==============================] - 0s 798us/step - loss: 0.6723 - sparse_categorical_accuracy: 0.9733\n",
      "Epoch 99/100\n",
      "5/5 [==============================] - 0s 598us/step - loss: 0.6708 - sparse_categorical_accuracy: 0.9733\n",
      "Epoch 100/100\n",
      "5/5 [==============================] - 0s 997us/step - loss: 0.6687 - sparse_categorical_accuracy: 0.9733\n"
     ]
    },
    {
     "data": {
      "text/plain": [
       "<tensorflow.python.keras.callbacks.History at 0x20329c02cc8>"
      ]
     },
     "execution_count": 14,
     "metadata": {},
     "output_type": "execute_result"
    }
   ],
   "source": [
    "#优化器 Adam\n",
    "#损失函数 交叉熵损失函数\n",
    "#评估函数 #acc\n",
    "\n",
    "\n",
    "model.compile(optimizer=tf.keras.optimizers.Adam(),\n",
    "              loss=tf.keras.losses.SparseCategoricalCrossentropy(from_logits=True),\n",
    "              metrics=[tf.keras.metrics.SparseCategoricalAccuracy()])\n",
    "\n",
    "#keras\n",
    "model.fit(data, labels, batch_size=32, epochs=100,shuffle=True)"
   ]
  },
  {
   "cell_type": "code",
   "execution_count": 15,
   "metadata": {},
   "outputs": [],
   "source": [
    "# _custom_objects = {\n",
    "#     \"Mylayer\" :  Line,\n",
    "# }"
   ]
  },
  {
   "cell_type": "code",
   "execution_count": 16,
   "metadata": {},
   "outputs": [
    {
     "name": "stdout",
     "output_type": "stream",
     "text": [
      "Model: \"model\"\n",
      "_________________________________________________________________\n",
      "Layer (type)                 Output Shape              Param #   \n",
      "=================================================================\n",
      "input_1 (InputLayer)         [(None, 4)]               0         \n",
      "_________________________________________________________________\n",
      "my_dense (MyDense)           (None, 16)                80        \n",
      "_________________________________________________________________\n",
      "tf_op_layer_Tanh (TensorFlow [(None, 16)]              0         \n",
      "_________________________________________________________________\n",
      "my_dense_1 (MyDense)         (None, 3)                 51        \n",
      "_________________________________________________________________\n",
      "tf_op_layer_Softmax (TensorF [(None, 3)]               0         \n",
      "=================================================================\n",
      "Total params: 131\n",
      "Trainable params: 131\n",
      "Non-trainable params: 0\n",
      "_________________________________________________________________\n"
     ]
    }
   ],
   "source": [
    "model.summary()"
   ]
  },
  {
   "cell_type": "code",
   "execution_count": null,
   "metadata": {},
   "outputs": [],
   "source": []
  },
  {
   "cell_type": "code",
   "execution_count": null,
   "metadata": {},
   "outputs": [],
   "source": []
  },
  {
   "cell_type": "code",
   "execution_count": 19,
   "metadata": {},
   "outputs": [],
   "source": [
    "model.save('keras_model_tf_version.h5')"
   ]
  },
  {
   "cell_type": "code",
   "execution_count": 20,
   "metadata": {},
   "outputs": [],
   "source": [
    "_custom_objects = {\n",
    "    \"MyDense\" :  MyDense,\n",
    "    \n",
    "}"
   ]
  },
  {
   "cell_type": "code",
   "execution_count": 21,
   "metadata": {},
   "outputs": [],
   "source": [
    "new_model = tf.keras.models.load_model(\"keras_model_tf_version.h5\",custom_objects=_custom_objects)"
   ]
  },
  {
   "cell_type": "code",
   "execution_count": 22,
   "metadata": {},
   "outputs": [],
   "source": [
    "y_pred = new_model.predict(data)"
   ]
  },
  {
   "cell_type": "code",
   "execution_count": 23,
   "metadata": {},
   "outputs": [],
   "source": [
    "y_pred = new_model.predict(data)"
   ]
  },
  {
   "cell_type": "code",
   "execution_count": 24,
   "metadata": {},
   "outputs": [
    {
     "data": {
      "text/plain": [
       "array([1, 2, 0, 2, 2, 2, 1, 0, 0, 1, 1, 1, 2, 1, 1, 1, 2, 2, 0, 1, 0, 2,\n",
       "       0, 2, 0, 0, 1, 1, 2, 0, 2, 1, 1, 2, 2, 2, 1, 1, 0, 2, 2, 0, 0, 1,\n",
       "       0, 2, 1, 2, 0, 2, 1, 1, 2, 1, 0, 1, 0, 1, 2, 1, 2, 0, 2, 2, 0, 0,\n",
       "       0, 2, 2, 1, 1, 2, 0, 0, 2, 0, 0, 0, 0, 2, 0, 2, 2, 0, 2, 2, 2, 2,\n",
       "       2, 0, 1, 1, 2, 0, 0, 2, 0, 0, 2, 0, 0, 0, 1, 0, 2, 1, 2, 0, 0, 0,\n",
       "       1, 2, 0, 0, 0, 2, 1, 0, 2, 2, 1, 2, 2, 1, 1, 0, 1, 0, 1, 2, 1, 1,\n",
       "       1, 1, 0, 0, 2, 1, 1, 2, 1, 2, 1, 2, 2, 0, 2, 0, 1, 1], dtype=int64)"
      ]
     },
     "execution_count": 24,
     "metadata": {},
     "output_type": "execute_result"
    }
   ],
   "source": [
    "np.argmax(y_pred,axis=1)"
   ]
  },
  {
   "cell_type": "code",
   "execution_count": 25,
   "metadata": {},
   "outputs": [
    {
     "data": {
      "text/plain": [
       "array([1., 2., 0., 2., 2., 2., 1., 0., 0., 1., 1., 1., 2., 1., 1., 1., 2.,\n",
       "       2., 0., 1., 0., 2., 0., 2., 0., 0., 1., 1., 2., 0., 2., 1., 1., 2.,\n",
       "       2., 2., 1., 1., 0., 2., 2., 0., 0., 1., 0., 2., 1., 2., 0., 1., 1.,\n",
       "       1., 2., 1., 0., 1., 0., 1., 2., 1., 2., 0., 2., 2., 0., 0., 0., 2.,\n",
       "       2., 1., 1., 2., 0., 0., 2., 0., 0., 0., 0., 2., 0., 2., 2., 0., 1.,\n",
       "       2., 2., 2., 2., 0., 1., 1., 1., 0., 0., 2., 0., 0., 2., 0., 0., 0.,\n",
       "       1., 0., 2., 1., 2., 0., 0., 0., 1., 2., 0., 0., 0., 2., 1., 0., 1.,\n",
       "       2., 1., 2., 2., 1., 1., 0., 1., 0., 1., 2., 1., 1., 1., 1., 0., 0.,\n",
       "       2., 1., 1., 2., 1., 2., 1., 2., 2., 0., 2., 0., 1., 1.])"
      ]
     },
     "execution_count": 25,
     "metadata": {},
     "output_type": "execute_result"
    }
   ],
   "source": [
    "labels"
   ]
  },
  {
   "cell_type": "code",
   "execution_count": 26,
   "metadata": {},
   "outputs": [
    {
     "data": {
      "text/plain": [
       "array([[2.00078618e-02, 7.66487658e-01, 2.13504568e-01],\n",
       "       [6.27030095e-04, 1.04543991e-01, 8.94828975e-01],\n",
       "       [9.66335952e-01, 3.35840806e-02, 7.99577901e-05],\n",
       "       [2.20586895e-03, 2.40967438e-01, 7.56826699e-01],\n",
       "       [2.29930854e-04, 4.56604995e-02, 9.54109609e-01],\n",
       "       [2.30546528e-03, 2.40581542e-01, 7.57112980e-01],\n",
       "       [2.40447652e-02, 7.49658763e-01, 2.26296425e-01],\n",
       "       [9.59850848e-01, 4.00426909e-02, 1.06369684e-04],\n",
       "       [9.67726350e-01, 3.22008431e-02, 7.28223094e-05],\n",
       "       [2.45897323e-02, 7.90507913e-01, 1.84902430e-01],\n",
       "       [6.45587891e-02, 8.42842579e-01, 9.25986767e-02],\n",
       "       [2.77159531e-02, 7.31590986e-01, 2.40693033e-01],\n",
       "       [2.80742184e-03, 2.73657978e-01, 7.23534584e-01],\n",
       "       [3.95808108e-02, 8.02907705e-01, 1.57511488e-01],\n",
       "       [2.10131668e-02, 6.86011016e-01, 2.92975783e-01],\n",
       "       [4.24388088e-02, 8.21250319e-01, 1.36310950e-01],\n",
       "       [5.65340044e-04, 9.05739442e-02, 9.08860683e-01],\n",
       "       [3.37491231e-03, 3.62260431e-01, 6.34364724e-01],\n",
       "       [9.84582663e-01, 1.53890923e-02, 2.82922283e-05],\n",
       "       [5.06027453e-02, 8.48413587e-01, 1.00983672e-01],\n",
       "       [9.56706882e-01, 4.31858823e-02, 1.07252599e-04],\n",
       "       [2.60207965e-03, 2.56795049e-01, 7.40602851e-01],\n",
       "       [9.78210270e-01, 2.17449199e-02, 4.48180217e-05],\n",
       "       [2.71027070e-03, 2.13862345e-01, 7.83427358e-01],\n",
       "       [9.68312800e-01, 3.16203907e-02, 6.67781278e-05],\n",
       "       [9.69645083e-01, 3.02860104e-02, 6.88468353e-05],\n",
       "       [1.14730723e-01, 8.42800558e-01, 4.24686931e-02],\n",
       "       [3.36140245e-02, 7.84006298e-01, 1.82379618e-01],\n",
       "       [3.95155232e-03, 3.83891016e-01, 6.12157464e-01],\n",
       "       [9.72429097e-01, 2.75089797e-02, 6.19363200e-05],\n",
       "       [8.27609838e-05, 2.41822414e-02, 9.75734949e-01],\n",
       "       [4.70399223e-02, 8.17273676e-01, 1.35686442e-01],\n",
       "       [2.36721858e-02, 7.50020027e-01, 2.26307780e-01],\n",
       "       [7.30918371e-04, 1.03377648e-01, 8.95891488e-01],\n",
       "       [3.38655576e-04, 7.08264187e-02, 9.28834915e-01],\n",
       "       [7.68455793e-04, 1.03814140e-01, 8.95417452e-01],\n",
       "       [1.88107695e-02, 6.50486887e-01, 3.30702305e-01],\n",
       "       [9.16158501e-03, 5.52001595e-01, 4.38836783e-01],\n",
       "       [8.94436836e-01, 1.05091020e-01, 4.72146407e-04],\n",
       "       [5.22585353e-04, 8.48044530e-02, 9.14673030e-01],\n",
       "       [1.33915222e-03, 1.54336661e-01, 8.44324172e-01],\n",
       "       [9.69028115e-01, 3.08990367e-02, 7.28367231e-05],\n",
       "       [9.70875740e-01, 2.90466044e-02, 7.76505694e-05],\n",
       "       [1.78237054e-02, 6.87765837e-01, 2.94410408e-01],\n",
       "       [9.59616303e-01, 4.02791500e-02, 1.04551502e-04],\n",
       "       [1.58403115e-03, 1.64621770e-01, 8.33794177e-01],\n",
       "       [1.52604163e-01, 8.03616822e-01, 4.37789969e-02],\n",
       "       [1.63059752e-03, 1.87436283e-01, 8.10933053e-01],\n",
       "       [9.53696966e-01, 4.61700298e-02, 1.32961432e-04],\n",
       "       [5.79475658e-03, 4.25354719e-01, 5.68850517e-01],\n",
       "       [3.57292145e-02, 8.61288488e-01, 1.02982335e-01],\n",
       "       [2.16690153e-02, 7.03123093e-01, 2.75207907e-01],\n",
       "       [1.38061773e-03, 1.75191134e-01, 8.23428273e-01],\n",
       "       [1.73430387e-02, 7.05128431e-01, 2.77528495e-01],\n",
       "       [9.53949273e-01, 4.59151193e-02, 1.35664741e-04],\n",
       "       [2.85452586e-02, 7.46440053e-01, 2.25014716e-01],\n",
       "       [9.82648194e-01, 1.73141956e-02, 3.75596101e-05],\n",
       "       [5.93579672e-02, 8.54147494e-01, 8.64945799e-02],\n",
       "       [1.44128420e-03, 1.76240519e-01, 8.22318196e-01],\n",
       "       [1.00322835e-01, 8.22709382e-01, 7.69677386e-02],\n",
       "       [5.98328374e-03, 4.04352456e-01, 5.89664280e-01],\n",
       "       [9.58165288e-01, 4.17352952e-02, 9.94033544e-05],\n",
       "       [1.44216570e-03, 1.75757945e-01, 8.22799921e-01],\n",
       "       [3.87805700e-03, 3.25771928e-01, 6.70350075e-01],\n",
       "       [9.42378938e-01, 5.74542433e-02, 1.66847269e-04],\n",
       "       [9.74640489e-01, 2.53067166e-02, 5.27953162e-05],\n",
       "       [9.55637395e-01, 4.42460924e-02, 1.16542251e-04],\n",
       "       [2.17194250e-03, 2.28336811e-01, 7.69491255e-01],\n",
       "       [5.67624171e-04, 9.10578445e-02, 9.08374548e-01],\n",
       "       [1.75841041e-02, 7.37773001e-01, 2.44642913e-01],\n",
       "       [5.09889722e-02, 8.23707044e-01, 1.25303924e-01],\n",
       "       [4.70800966e-04, 7.99227431e-02, 9.19606507e-01],\n",
       "       [9.74217057e-01, 2.57256348e-02, 5.72864446e-05],\n",
       "       [9.66348469e-01, 3.35701220e-02, 8.14964660e-05],\n",
       "       [3.51253850e-03, 2.90655881e-01, 7.05831587e-01],\n",
       "       [9.47399080e-01, 5.24479225e-02, 1.52967128e-04],\n",
       "       [9.54304457e-01, 4.55700271e-02, 1.25525432e-04],\n",
       "       [9.48803365e-01, 5.10306172e-02, 1.66017664e-04],\n",
       "       [9.74892437e-01, 2.50559989e-02, 5.16173859e-05],\n",
       "       [8.29366676e-04, 1.35945633e-01, 8.63224983e-01],\n",
       "       [9.47741508e-01, 5.21018133e-02, 1.56673792e-04],\n",
       "       [1.32677937e-03, 1.63756683e-01, 8.34916472e-01],\n",
       "       [9.90357483e-04, 1.53520033e-01, 8.45489621e-01],\n",
       "       [9.65817928e-01, 3.40901278e-02, 9.19344311e-05],\n",
       "       [6.57577626e-03, 4.45989668e-01, 5.47434509e-01],\n",
       "       [6.37410674e-04, 1.03030577e-01, 8.96331966e-01],\n",
       "       [1.54790911e-03, 1.87103182e-01, 8.11348915e-01],\n",
       "       [8.63186026e-04, 1.25845253e-01, 8.73291552e-01],\n",
       "       [1.27198687e-03, 1.53539494e-01, 8.45188558e-01],\n",
       "       [9.70037282e-01, 2.98920609e-02, 7.06984865e-05],\n",
       "       [4.14652787e-02, 8.48683834e-01, 1.09850913e-01],\n",
       "       [8.91232342e-02, 8.27025056e-01, 8.38516578e-02],\n",
       "       [9.21128597e-03, 4.88572150e-01, 5.02216518e-01],\n",
       "       [9.74887311e-01, 2.50568353e-02, 5.58971151e-05],\n",
       "       [9.72054541e-01, 2.78803632e-02, 6.51349255e-05],\n",
       "       [5.47423027e-04, 9.07442942e-02, 9.08708274e-01],\n",
       "       [9.62974787e-01, 3.69241871e-02, 1.01037906e-04],\n",
       "       [9.66747940e-01, 3.31604928e-02, 9.16014469e-05],\n",
       "       [4.65646526e-03, 3.63584399e-01, 6.31759167e-01],\n",
       "       [9.69467103e-01, 3.04637775e-02, 6.91539753e-05],\n",
       "       [9.74559665e-01, 2.53847912e-02, 5.55231163e-05],\n",
       "       [9.54031467e-01, 4.58424464e-02, 1.26101600e-04],\n",
       "       [3.67480814e-02, 8.25544655e-01, 1.37707263e-01],\n",
       "       [9.68172193e-01, 3.17516588e-02, 7.61518677e-05],\n",
       "       [8.28903052e-04, 1.35514066e-01, 8.63656998e-01],\n",
       "       [3.94406766e-02, 8.03093374e-01, 1.57466054e-01],\n",
       "       [6.90479763e-03, 4.67669904e-01, 5.25425375e-01],\n",
       "       [9.66548979e-01, 3.33698690e-02, 8.11220525e-05],\n",
       "       [9.43070233e-01, 5.67553677e-02, 1.74386310e-04],\n",
       "       [9.77482021e-01, 2.24690530e-02, 4.88861915e-05],\n",
       "       [5.59272505e-02, 8.43687594e-01, 1.00385152e-01],\n",
       "       [4.15002462e-04, 6.58190623e-02, 9.33765948e-01],\n",
       "       [9.82688367e-01, 1.72794387e-02, 3.22124870e-05],\n",
       "       [9.83608663e-01, 1.63601004e-02, 3.12913326e-05],\n",
       "       [9.59089994e-01, 4.07881737e-02, 1.21814250e-04],\n",
       "       [8.10579921e-04, 1.26264066e-01, 8.72925341e-01],\n",
       "       [3.36954296e-02, 8.18582773e-01, 1.47721842e-01],\n",
       "       [9.51504052e-01, 4.83602360e-02, 1.35817085e-04],\n",
       "       [3.61674512e-03, 3.08526009e-01, 6.87857270e-01],\n",
       "       [4.37163137e-04, 7.49437511e-02, 9.24619138e-01],\n",
       "       [2.26012878e-02, 7.50471711e-01, 2.26926938e-01],\n",
       "       [1.32395199e-03, 1.53739646e-01, 8.44936371e-01],\n",
       "       [2.36685690e-03, 2.73244023e-01, 7.24389136e-01],\n",
       "       [2.02404689e-02, 6.67887270e-01, 3.11872244e-01],\n",
       "       [8.95979255e-02, 8.43354881e-01, 6.70471340e-02],\n",
       "       [9.84669030e-01, 1.53037459e-02, 2.72904890e-05],\n",
       "       [1.90952271e-02, 6.87016964e-01, 2.93887854e-01],\n",
       "       [9.66769099e-01, 3.31451856e-02, 8.57698324e-05],\n",
       "       [1.71357542e-02, 6.12200379e-01, 3.70663851e-01],\n",
       "       [1.33915222e-03, 1.54336661e-01, 8.44324172e-01],\n",
       "       [3.93802598e-02, 8.33397150e-01, 1.27222657e-01],\n",
       "       [4.30092476e-02, 8.62253904e-01, 9.47367847e-02],\n",
       "       [4.28647362e-02, 7.76040792e-01, 1.81094542e-01],\n",
       "       [4.81100939e-02, 8.25826466e-01, 1.26063466e-01],\n",
       "       [9.74668920e-01, 2.52775569e-02, 5.35770669e-05],\n",
       "       [9.48380649e-01, 5.14687002e-02, 1.50659063e-04],\n",
       "       [6.77445112e-03, 4.25047547e-01, 5.68177998e-01],\n",
       "       [1.51771465e-02, 6.70336425e-01, 3.14486474e-01],\n",
       "       [5.39788045e-02, 8.37978601e-01, 1.08042680e-01],\n",
       "       [5.30886790e-03, 3.83807808e-01, 6.10883296e-01],\n",
       "       [3.30191627e-02, 7.84727454e-01, 1.82253420e-01],\n",
       "       [2.07390310e-03, 2.29195654e-01, 7.68730462e-01],\n",
       "       [3.69752757e-02, 8.44242275e-01, 1.18782483e-01],\n",
       "       [2.49136216e-03, 2.57449746e-01, 7.40058899e-01],\n",
       "       [2.81715533e-04, 6.28628954e-02, 9.36855435e-01],\n",
       "       [9.29932714e-01, 6.98450133e-02, 2.22311064e-04],\n",
       "       [5.29953511e-04, 9.68329012e-02, 9.02637184e-01],\n",
       "       [9.62532222e-01, 3.73701379e-02, 9.75903022e-05],\n",
       "       [3.24520357e-02, 7.28359103e-01, 2.39188850e-01],\n",
       "       [2.93676946e-02, 8.21658015e-01, 1.48974240e-01]], dtype=float32)"
      ]
     },
     "execution_count": 26,
     "metadata": {},
     "output_type": "execute_result"
    }
   ],
   "source": [
    "y_pred"
   ]
  },
  {
   "cell_type": "code",
   "execution_count": null,
   "metadata": {},
   "outputs": [],
   "source": []
  }
 ],
 "metadata": {
  "kernelspec": {
   "display_name": "Python 3",
   "language": "python",
   "name": "python3"
  },
  "language_info": {
   "codemirror_mode": {
    "name": "ipython",
    "version": 3
   },
   "file_extension": ".py",
   "mimetype": "text/x-python",
   "name": "python",
   "nbconvert_exporter": "python",
   "pygments_lexer": "ipython3",
   "version": "3.7.7"
  }
 },
 "nbformat": 4,
 "nbformat_minor": 4
}
