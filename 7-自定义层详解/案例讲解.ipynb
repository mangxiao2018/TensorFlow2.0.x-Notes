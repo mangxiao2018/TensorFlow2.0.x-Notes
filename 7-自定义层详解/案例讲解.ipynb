{
 "cells": [
  {
   "cell_type": "code",
   "execution_count": 14,
   "metadata": {},
   "outputs": [
    {
     "name": "stdout",
     "output_type": "stream",
     "text": [
      "2.0.0-rc0\n"
     ]
    }
   ],
   "source": [
    "import tensorflow as tf\n",
    "print(tf.__version__)"
   ]
  },
  {
   "cell_type": "code",
   "execution_count": 15,
   "metadata": {},
   "outputs": [
    {
     "data": {
      "text/plain": [
       "True"
      ]
     },
     "execution_count": 15,
     "metadata": {},
     "output_type": "execute_result"
    }
   ],
   "source": [
    "tf.test.is_gpu_available()\n"
   ]
  },
  {
   "cell_type": "code",
   "execution_count": 16,
   "metadata": {},
   "outputs": [],
   "source": [
    "import tensorflow as tf\n",
    "#gpu = tf.config.experimental.list_physical_devices(device_type='GPU')\n",
    "#tf.config.experimental.set_memory_growth(gpu[0], True)\n",
    "\n",
    "# Dense\n",
    "class MyDense(tf.keras.layers.Layer):\n",
    "    def __init__(self, units=32, **kwargs):\n",
    "        self.units = units\n",
    "        super(MyDense, self).__init__(**kwargs)\n",
    "    \n",
    "    # build方法一般定义Layer需要被训练的参数\n",
    "    def build(self, input_shape):\n",
    "        self.w = self.add_weight(shape=(input_shape[-1], self.units), initializer='random_normal', trainable=True, name='w')\n",
    "        self.b = self.add_weight(shape=(self.units,),initializer='random_normal', trainable=True, name='b')\n",
    "        super(MyDense,self).build(input_shape) # 相当于设置self.built = True\n",
    "    \n",
    "    # call方法一般定义正向传播运算逻辑，__call__方法调用了它\n",
    "    def call(self, inputs):\n",
    "        return tf.matmul(inputs, self.w) + self.b\n",
    "    \n",
    "    # 如果要让自定义的Layer通过Functional API 组合成模型时可以序列化，需要自定义get_config方法\n",
    "    def get_config(self):\n",
    "        config = super(MyDense, self).get_config()\n",
    "        config.update({'units': self.units})\n",
    "        return config"
   ]
  },
  {
   "cell_type": "code",
   "execution_count": 17,
   "metadata": {},
   "outputs": [],
   "source": [
    "from sklearn import datasets\n",
    "iris = datasets.load_iris()\n",
    "data = iris.data\n",
    "labels = iris.target"
   ]
  },
  {
   "cell_type": "code",
   "execution_count": 18,
   "metadata": {},
   "outputs": [
    {
     "data": {
      "text/plain": [
       "array([[5.1, 3.5, 1.4, 0.2],\n",
       "       [4.9, 3. , 1.4, 0.2],\n",
       "       [4.7, 3.2, 1.3, 0.2],\n",
       "       [4.6, 3.1, 1.5, 0.2],\n",
       "       [5. , 3.6, 1.4, 0.2]])"
      ]
     },
     "execution_count": 18,
     "metadata": {},
     "output_type": "execute_result"
    }
   ],
   "source": [
    "data[:5]"
   ]
  },
  {
   "cell_type": "code",
   "execution_count": 19,
   "metadata": {},
   "outputs": [
    {
     "data": {
      "text/plain": [
       "array([0, 0, 0, 0, 0, 0, 0, 0, 0, 0, 0, 0, 0, 0, 0, 0, 0, 0, 0, 0, 0, 0,\n",
       "       0, 0, 0, 0, 0, 0, 0, 0, 0, 0, 0, 0, 0, 0, 0, 0, 0, 0, 0, 0, 0, 0,\n",
       "       0, 0, 0, 0, 0, 0, 1, 1, 1, 1, 1, 1, 1, 1, 1, 1, 1, 1, 1, 1, 1, 1,\n",
       "       1, 1, 1, 1, 1, 1, 1, 1, 1, 1, 1, 1, 1, 1, 1, 1, 1, 1, 1, 1, 1, 1,\n",
       "       1, 1, 1, 1, 1, 1, 1, 1, 1, 1, 1, 1, 2, 2, 2, 2, 2, 2, 2, 2, 2, 2,\n",
       "       2, 2, 2, 2, 2, 2, 2, 2, 2, 2, 2, 2, 2, 2, 2, 2, 2, 2, 2, 2, 2, 2,\n",
       "       2, 2, 2, 2, 2, 2, 2, 2, 2, 2, 2, 2, 2, 2, 2, 2, 2, 2])"
      ]
     },
     "execution_count": 19,
     "metadata": {},
     "output_type": "execute_result"
    }
   ],
   "source": [
    "labels #(150,3)"
   ]
  },
  {
   "cell_type": "code",
   "execution_count": 20,
   "metadata": {},
   "outputs": [],
   "source": [
    "# 网络 函数式构建的网络\n",
    "inputs = tf.keras.Input(shape=(4,))\n",
    "x = MyDense(units=16)(inputs)\n",
    "x = tf.nn.tanh(x)\n",
    "x = MyDense(units=3)(x)\n",
    "x = tf.keras.layers.Dense(16)(x)\n",
    "predictions = tf.nn.softmax(x)\n",
    "model = tf.keras.Model(inputs=inputs,outputs=predictions)"
   ]
  },
  {
   "cell_type": "code",
   "execution_count": 21,
   "metadata": {},
   "outputs": [],
   "source": [
    "import numpy as np"
   ]
  },
  {
   "cell_type": "code",
   "execution_count": 22,
   "metadata": {},
   "outputs": [],
   "source": [
    "data = np.concatenate((data,labels.reshape(150,1)),axis=-1)\n",
    "np.random.shuffle(data)"
   ]
  },
  {
   "cell_type": "code",
   "execution_count": 23,
   "metadata": {},
   "outputs": [],
   "source": [
    "labels = data[:,-1]\n",
    "data = data[:,:4]"
   ]
  },
  {
   "cell_type": "code",
   "execution_count": 24,
   "metadata": {},
   "outputs": [
    {
     "name": "stdout",
     "output_type": "stream",
     "text": [
      "Train on 150 samples\n",
      "Epoch 1/100\n",
      "150/150 [==============================] - 0s 1ms/sample - loss: 2.7722 - sparse_categorical_accuracy: 0.0000e+00\n",
      "Epoch 2/100\n",
      "150/150 [==============================] - 0s 80us/sample - loss: 2.7709 - sparse_categorical_accuracy: 0.2533\n",
      "Epoch 3/100\n",
      "150/150 [==============================] - 0s 66us/sample - loss: 2.7696 - sparse_categorical_accuracy: 0.3333\n",
      "Epoch 4/100\n",
      "150/150 [==============================] - 0s 60us/sample - loss: 2.7682 - sparse_categorical_accuracy: 0.3333\n",
      "Epoch 5/100\n",
      "150/150 [==============================] - 0s 66us/sample - loss: 2.7666 - sparse_categorical_accuracy: 0.3333\n",
      "Epoch 6/100\n",
      "150/150 [==============================] - 0s 66us/sample - loss: 2.7648 - sparse_categorical_accuracy: 0.3333\n",
      "Epoch 7/100\n",
      "150/150 [==============================] - 0s 160us/sample - loss: 2.7627 - sparse_categorical_accuracy: 0.3333\n",
      "Epoch 8/100\n",
      "150/150 [==============================] - 0s 73us/sample - loss: 2.7603 - sparse_categorical_accuracy: 0.3333\n",
      "Epoch 9/100\n",
      "150/150 [==============================] - 0s 60us/sample - loss: 2.7572 - sparse_categorical_accuracy: 0.3333\n",
      "Epoch 10/100\n",
      "150/150 [==============================] - 0s 66us/sample - loss: 2.7535 - sparse_categorical_accuracy: 0.3333\n",
      "Epoch 11/100\n",
      "150/150 [==============================] - 0s 66us/sample - loss: 2.7488 - sparse_categorical_accuracy: 0.3333\n",
      "Epoch 12/100\n",
      "150/150 [==============================] - 0s 66us/sample - loss: 2.7432 - sparse_categorical_accuracy: 0.3333\n",
      "Epoch 13/100\n",
      "150/150 [==============================] - 0s 73us/sample - loss: 2.7361 - sparse_categorical_accuracy: 0.3333\n",
      "Epoch 14/100\n",
      "150/150 [==============================] - 0s 66us/sample - loss: 2.7275 - sparse_categorical_accuracy: 0.3333\n",
      "Epoch 15/100\n",
      "150/150 [==============================] - 0s 66us/sample - loss: 2.7167 - sparse_categorical_accuracy: 0.3333\n",
      "Epoch 16/100\n",
      "150/150 [==============================] - 0s 66us/sample - loss: 2.7040 - sparse_categorical_accuracy: 0.3333\n",
      "Epoch 17/100\n",
      "150/150 [==============================] - 0s 60us/sample - loss: 2.6886 - sparse_categorical_accuracy: 0.3333\n",
      "Epoch 18/100\n",
      "150/150 [==============================] - 0s 66us/sample - loss: 2.6716 - sparse_categorical_accuracy: 0.3333\n",
      "Epoch 19/100\n",
      "150/150 [==============================] - 0s 73us/sample - loss: 2.6533 - sparse_categorical_accuracy: 0.3333\n",
      "Epoch 20/100\n",
      "150/150 [==============================] - 0s 60us/sample - loss: 2.6352 - sparse_categorical_accuracy: 0.3333\n",
      "Epoch 21/100\n",
      "150/150 [==============================] - 0s 66us/sample - loss: 2.6158 - sparse_categorical_accuracy: 0.3333\n",
      "Epoch 22/100\n",
      "150/150 [==============================] - 0s 66us/sample - loss: 2.6002 - sparse_categorical_accuracy: 0.3333\n",
      "Epoch 23/100\n",
      "150/150 [==============================] - 0s 60us/sample - loss: 2.5865 - sparse_categorical_accuracy: 0.3333\n",
      "Epoch 24/100\n",
      "150/150 [==============================] - 0s 73us/sample - loss: 2.5749 - sparse_categorical_accuracy: 0.3333\n",
      "Epoch 25/100\n",
      "150/150 [==============================] - 0s 66us/sample - loss: 2.5658 - sparse_categorical_accuracy: 0.3333\n",
      "Epoch 26/100\n",
      "150/150 [==============================] - 0s 66us/sample - loss: 2.5584 - sparse_categorical_accuracy: 0.3333\n",
      "Epoch 27/100\n",
      "150/150 [==============================] - 0s 73us/sample - loss: 2.5534 - sparse_categorical_accuracy: 0.3333\n",
      "Epoch 28/100\n",
      "150/150 [==============================] - 0s 66us/sample - loss: 2.5488 - sparse_categorical_accuracy: 0.3333\n",
      "Epoch 29/100\n",
      "150/150 [==============================] - 0s 66us/sample - loss: 2.5456 - sparse_categorical_accuracy: 0.3333\n",
      "Epoch 30/100\n",
      "150/150 [==============================] - 0s 73us/sample - loss: 2.5430 - sparse_categorical_accuracy: 0.3333\n",
      "Epoch 31/100\n",
      "150/150 [==============================] - 0s 66us/sample - loss: 2.5409 - sparse_categorical_accuracy: 0.3333\n",
      "Epoch 32/100\n",
      "150/150 [==============================] - 0s 66us/sample - loss: 2.5387 - sparse_categorical_accuracy: 0.3333\n",
      "Epoch 33/100\n",
      "150/150 [==============================] - 0s 73us/sample - loss: 2.5372 - sparse_categorical_accuracy: 0.3333\n",
      "Epoch 34/100\n",
      "150/150 [==============================] - 0s 73us/sample - loss: 2.5356 - sparse_categorical_accuracy: 0.3333\n",
      "Epoch 35/100\n",
      "150/150 [==============================] - 0s 66us/sample - loss: 2.5339 - sparse_categorical_accuracy: 0.3333\n",
      "Epoch 36/100\n",
      "150/150 [==============================] - 0s 73us/sample - loss: 2.5324 - sparse_categorical_accuracy: 0.3333\n",
      "Epoch 37/100\n",
      "150/150 [==============================] - 0s 73us/sample - loss: 2.5311 - sparse_categorical_accuracy: 0.3333\n",
      "Epoch 38/100\n",
      "150/150 [==============================] - 0s 66us/sample - loss: 2.5296 - sparse_categorical_accuracy: 0.3333\n",
      "Epoch 39/100\n",
      "150/150 [==============================] - 0s 66us/sample - loss: 2.5280 - sparse_categorical_accuracy: 0.3333\n",
      "Epoch 40/100\n",
      "150/150 [==============================] - 0s 73us/sample - loss: 2.5265 - sparse_categorical_accuracy: 0.3333\n",
      "Epoch 41/100\n",
      "150/150 [==============================] - 0s 60us/sample - loss: 2.5248 - sparse_categorical_accuracy: 0.3333\n",
      "Epoch 42/100\n",
      "150/150 [==============================] - 0s 73us/sample - loss: 2.5233 - sparse_categorical_accuracy: 0.3333\n",
      "Epoch 43/100\n",
      "150/150 [==============================] - 0s 66us/sample - loss: 2.5212 - sparse_categorical_accuracy: 0.3333\n",
      "Epoch 44/100\n",
      "150/150 [==============================] - 0s 66us/sample - loss: 2.5192 - sparse_categorical_accuracy: 0.3333\n",
      "Epoch 45/100\n",
      "150/150 [==============================] - 0s 73us/sample - loss: 2.5178 - sparse_categorical_accuracy: 0.3333\n",
      "Epoch 46/100\n",
      "150/150 [==============================] - 0s 60us/sample - loss: 2.5146 - sparse_categorical_accuracy: 0.3333\n",
      "Epoch 47/100\n",
      "150/150 [==============================] - 0s 66us/sample - loss: 2.5110 - sparse_categorical_accuracy: 0.3333\n",
      "Epoch 48/100\n",
      "150/150 [==============================] - 0s 66us/sample - loss: 2.5079 - sparse_categorical_accuracy: 0.3333\n",
      "Epoch 49/100\n",
      "150/150 [==============================] - 0s 66us/sample - loss: 2.5032 - sparse_categorical_accuracy: 0.3333\n",
      "Epoch 50/100\n",
      "150/150 [==============================] - 0s 66us/sample - loss: 2.4981 - sparse_categorical_accuracy: 0.3333\n",
      "Epoch 51/100\n",
      "150/150 [==============================] - 0s 73us/sample - loss: 2.4923 - sparse_categorical_accuracy: 0.3333\n",
      "Epoch 52/100\n",
      "150/150 [==============================] - 0s 60us/sample - loss: 2.4853 - sparse_categorical_accuracy: 0.3333\n",
      "Epoch 53/100\n",
      "150/150 [==============================] - 0s 66us/sample - loss: 2.4772 - sparse_categorical_accuracy: 0.3600\n",
      "Epoch 54/100\n",
      "150/150 [==============================] - 0s 73us/sample - loss: 2.4709 - sparse_categorical_accuracy: 0.4933\n",
      "Epoch 55/100\n",
      "150/150 [==============================] - 0s 60us/sample - loss: 2.4633 - sparse_categorical_accuracy: 0.6000\n",
      "Epoch 56/100\n",
      "150/150 [==============================] - 0s 66us/sample - loss: 2.4567 - sparse_categorical_accuracy: 0.6467\n",
      "Epoch 57/100\n",
      "150/150 [==============================] - 0s 66us/sample - loss: 2.4490 - sparse_categorical_accuracy: 0.6267\n",
      "Epoch 58/100\n",
      "150/150 [==============================] - 0s 73us/sample - loss: 2.4421 - sparse_categorical_accuracy: 0.5133\n",
      "Epoch 59/100\n",
      "150/150 [==============================] - 0s 60us/sample - loss: 2.4353 - sparse_categorical_accuracy: 0.4267\n",
      "Epoch 60/100\n",
      "150/150 [==============================] - 0s 73us/sample - loss: 2.4272 - sparse_categorical_accuracy: 0.4333\n",
      "Epoch 61/100\n",
      "150/150 [==============================] - 0s 73us/sample - loss: 2.4190 - sparse_categorical_accuracy: 0.4600\n",
      "Epoch 62/100\n",
      "150/150 [==============================] - 0s 66us/sample - loss: 2.4104 - sparse_categorical_accuracy: 0.5600\n",
      "Epoch 63/100\n",
      "150/150 [==============================] - 0s 66us/sample - loss: 2.4013 - sparse_categorical_accuracy: 0.6333\n",
      "Epoch 64/100\n",
      "150/150 [==============================] - 0s 66us/sample - loss: 2.3901 - sparse_categorical_accuracy: 0.7267\n",
      "Epoch 65/100\n",
      "150/150 [==============================] - 0s 66us/sample - loss: 2.3781 - sparse_categorical_accuracy: 0.8200\n",
      "Epoch 66/100\n",
      "150/150 [==============================] - 0s 66us/sample - loss: 2.3653 - sparse_categorical_accuracy: 0.8533\n",
      "Epoch 67/100\n",
      "150/150 [==============================] - 0s 66us/sample - loss: 2.3499 - sparse_categorical_accuracy: 0.8600\n",
      "Epoch 68/100\n",
      "150/150 [==============================] - 0s 66us/sample - loss: 2.3336 - sparse_categorical_accuracy: 0.8533\n",
      "Epoch 69/100\n",
      "150/150 [==============================] - 0s 66us/sample - loss: 2.3140 - sparse_categorical_accuracy: 0.8733\n",
      "Epoch 70/100\n",
      "150/150 [==============================] - 0s 66us/sample - loss: 2.2931 - sparse_categorical_accuracy: 0.9000\n",
      "Epoch 71/100\n",
      "150/150 [==============================] - 0s 60us/sample - loss: 2.2711 - sparse_categorical_accuracy: 0.9400\n",
      "Epoch 72/100\n",
      "150/150 [==============================] - 0s 73us/sample - loss: 2.2472 - sparse_categorical_accuracy: 0.9533\n",
      "Epoch 73/100\n",
      "150/150 [==============================] - 0s 66us/sample - loss: 2.2234 - sparse_categorical_accuracy: 0.9467\n",
      "Epoch 74/100\n",
      "150/150 [==============================] - 0s 66us/sample - loss: 2.2015 - sparse_categorical_accuracy: 0.9600\n",
      "Epoch 75/100\n",
      "150/150 [==============================] - 0s 66us/sample - loss: 2.1805 - sparse_categorical_accuracy: 0.9600\n",
      "Epoch 76/100\n",
      "150/150 [==============================] - 0s 80us/sample - loss: 2.1630 - sparse_categorical_accuracy: 0.9600\n",
      "Epoch 77/100\n",
      "150/150 [==============================] - 0s 73us/sample - loss: 2.1478 - sparse_categorical_accuracy: 0.9600\n",
      "Epoch 78/100\n",
      "150/150 [==============================] - 0s 66us/sample - loss: 2.1340 - sparse_categorical_accuracy: 0.9600\n",
      "Epoch 79/100\n",
      "150/150 [==============================] - 0s 73us/sample - loss: 2.1229 - sparse_categorical_accuracy: 0.9467\n",
      "Epoch 80/100\n",
      "150/150 [==============================] - 0s 66us/sample - loss: 2.1134 - sparse_categorical_accuracy: 0.9467\n",
      "Epoch 81/100\n",
      "150/150 [==============================] - 0s 66us/sample - loss: 2.1052 - sparse_categorical_accuracy: 0.9600\n",
      "Epoch 82/100\n",
      "150/150 [==============================] - 0s 73us/sample - loss: 2.0981 - sparse_categorical_accuracy: 0.9600\n",
      "Epoch 83/100\n",
      "150/150 [==============================] - 0s 153us/sample - loss: 2.0916 - sparse_categorical_accuracy: 0.9600\n",
      "Epoch 84/100\n",
      "150/150 [==============================] - 0s 66us/sample - loss: 2.0857 - sparse_categorical_accuracy: 0.9600\n",
      "Epoch 85/100\n",
      "150/150 [==============================] - 0s 157us/sample - loss: 2.0799 - sparse_categorical_accuracy: 0.9600\n",
      "Epoch 86/100\n",
      "150/150 [==============================] - 0s 60us/sample - loss: 2.0749 - sparse_categorical_accuracy: 0.9600\n",
      "Epoch 87/100\n",
      "150/150 [==============================] - 0s 66us/sample - loss: 2.0703 - sparse_categorical_accuracy: 0.9600\n",
      "Epoch 88/100\n",
      "150/150 [==============================] - 0s 66us/sample - loss: 2.0652 - sparse_categorical_accuracy: 0.9667\n",
      "Epoch 89/100\n",
      "150/150 [==============================] - 0s 60us/sample - loss: 2.0609 - sparse_categorical_accuracy: 0.9667\n",
      "Epoch 90/100\n",
      "150/150 [==============================] - 0s 66us/sample - loss: 2.0570 - sparse_categorical_accuracy: 0.9667\n",
      "Epoch 91/100\n",
      "150/150 [==============================] - 0s 66us/sample - loss: 2.0520 - sparse_categorical_accuracy: 0.9667\n",
      "Epoch 92/100\n",
      "150/150 [==============================] - 0s 66us/sample - loss: 2.0480 - sparse_categorical_accuracy: 0.9667\n",
      "Epoch 93/100\n",
      "150/150 [==============================] - 0s 66us/sample - loss: 2.0447 - sparse_categorical_accuracy: 0.9667\n",
      "Epoch 94/100\n",
      "150/150 [==============================] - 0s 66us/sample - loss: 2.0402 - sparse_categorical_accuracy: 0.9667\n",
      "Epoch 95/100\n",
      "150/150 [==============================] - 0s 80us/sample - loss: 2.0365 - sparse_categorical_accuracy: 0.9667\n",
      "Epoch 96/100\n",
      "150/150 [==============================] - 0s 73us/sample - loss: 2.0335 - sparse_categorical_accuracy: 0.9667\n",
      "Epoch 97/100\n",
      "150/150 [==============================] - 0s 66us/sample - loss: 2.0300 - sparse_categorical_accuracy: 0.9667\n",
      "Epoch 98/100\n",
      "150/150 [==============================] - 0s 146us/sample - loss: 2.0265 - sparse_categorical_accuracy: 0.9667\n",
      "Epoch 99/100\n",
      "150/150 [==============================] - 0s 66us/sample - loss: 2.0227 - sparse_categorical_accuracy: 0.9667\n",
      "Epoch 100/100\n",
      "150/150 [==============================] - 0s 73us/sample - loss: 2.0198 - sparse_categorical_accuracy: 0.9667\n"
     ]
    },
    {
     "data": {
      "text/plain": [
       "<tensorflow.python.keras.callbacks.History at 0x20c1716bdc8>"
      ]
     },
     "execution_count": 24,
     "metadata": {},
     "output_type": "execute_result"
    }
   ],
   "source": [
    "# 优化器 Adam\n",
    "# 损失函数 交叉熵损失函数\n",
    "# 评估函数 acc\n",
    "\n",
    "# 编码运行过程中遇到了ERROR:Function call stack:distributed_function\n",
    "# 从网上找了各种解决方法都不可以，网上的方法大约是明确指明使用GPU，后来解决的办法是在运行中的其它 notebook实例SHUT DOWN就可以了\n",
    "model.compile(optimizer=tf.keras.optimizers.Adam(),\n",
    "             loss=tf.keras.losses.SparseCategoricalCrossentropy(from_logits=True),\n",
    "             metrics=[tf.keras.metrics.SparseCategoricalAccuracy()])\n",
    "\n",
    "# keras train\n",
    "model.fit(data, labels, batch_size=32, epochs=100, shuffle=True)"
   ]
  },
  {
   "cell_type": "code",
   "execution_count": 25,
   "metadata": {},
   "outputs": [
    {
     "name": "stdout",
     "output_type": "stream",
     "text": [
      "Model: \"model_1\"\n",
      "_________________________________________________________________\n",
      "Layer (type)                 Output Shape              Param #   \n",
      "=================================================================\n",
      "input_2 (InputLayer)         [(None, 4)]               0         \n",
      "_________________________________________________________________\n",
      "my_dense_2 (MyDense)         (None, 16)                80        \n",
      "_________________________________________________________________\n",
      "tf_op_layer_Tanh_1 (TensorFl [(None, 16)]              0         \n",
      "_________________________________________________________________\n",
      "my_dense_3 (MyDense)         (None, 3)                 51        \n",
      "_________________________________________________________________\n",
      "dense_1 (Dense)              (None, 16)                64        \n",
      "_________________________________________________________________\n",
      "tf_op_layer_Softmax_1 (Tenso [(None, 16)]              0         \n",
      "=================================================================\n",
      "Total params: 195\n",
      "Trainable params: 195\n",
      "Non-trainable params: 0\n",
      "_________________________________________________________________\n"
     ]
    }
   ],
   "source": [
    "model.summary()"
   ]
  },
  {
   "cell_type": "code",
   "execution_count": 26,
   "metadata": {},
   "outputs": [],
   "source": [
    "model.save('keras_model_tf_version.h5')"
   ]
  },
  {
   "cell_type": "code",
   "execution_count": 27,
   "metadata": {},
   "outputs": [],
   "source": [
    "_custom_objects = {\n",
    "    \"MyDense\" : MyDense,\n",
    "}"
   ]
  },
  {
   "cell_type": "code",
   "execution_count": 28,
   "metadata": {},
   "outputs": [],
   "source": [
    "new_model = tf.keras.models.load_model(\"keras_model_tf_version.h5\", custom_objects=_custom_objects)"
   ]
  },
  {
   "cell_type": "code",
   "execution_count": 29,
   "metadata": {},
   "outputs": [],
   "source": [
    "y_pred = new_model.predict(data)"
   ]
  },
  {
   "cell_type": "code",
   "execution_count": 30,
   "metadata": {},
   "outputs": [
    {
     "data": {
      "text/plain": [
       "array([1, 2, 1, 2, 0, 2, 1, 0, 0, 2, 2, 1, 0, 0, 2, 2, 2, 1, 0, 1, 0, 0,\n",
       "       1, 2, 2, 2, 1, 0, 0, 2, 2, 1, 1, 2, 1, 2, 0, 2, 1, 2, 2, 0, 2, 1,\n",
       "       2, 1, 1, 1, 0, 0, 0, 0, 0, 0, 1, 2, 0, 0, 2, 1, 1, 0, 1, 1, 1, 2,\n",
       "       2, 2, 2, 1, 0, 2, 2, 0, 2, 0, 0, 1, 1, 2, 1, 1, 2, 0, 1, 2, 2, 1,\n",
       "       1, 1, 0, 2, 1, 0, 1, 2, 2, 1, 1, 0, 2, 2, 2, 0, 0, 0, 1, 2, 1, 0,\n",
       "       2, 0, 2, 0, 2, 1, 2, 0, 2, 0, 1, 2, 2, 0, 0, 2, 0, 2, 0, 0, 0, 0,\n",
       "       1, 2, 0, 1, 1, 0, 0, 2, 1, 1, 2, 0, 1, 0, 2, 0, 2, 2], dtype=int64)"
      ]
     },
     "execution_count": 30,
     "metadata": {},
     "output_type": "execute_result"
    }
   ],
   "source": [
    "np.argmax(y_pred, axis=1)"
   ]
  },
  {
   "cell_type": "code",
   "execution_count": 31,
   "metadata": {},
   "outputs": [
    {
     "data": {
      "text/plain": [
       "array([1., 2., 1., 2., 0., 2., 1., 0., 0., 1., 2., 1., 0., 0., 2., 2., 2.,\n",
       "       1., 0., 1., 0., 0., 1., 2., 1., 2., 1., 0., 0., 2., 2., 1., 1., 2.,\n",
       "       1., 2., 0., 2., 1., 1., 2., 0., 2., 1., 2., 1., 1., 1., 0., 0., 0.,\n",
       "       0., 0., 0., 1., 1., 0., 0., 2., 1., 1., 0., 1., 1., 1., 2., 2., 2.,\n",
       "       2., 1., 0., 2., 2., 0., 2., 0., 0., 1., 1., 2., 1., 1., 2., 0., 1.,\n",
       "       2., 2., 1., 1., 1., 0., 1., 1., 0., 1., 2., 2., 1., 1., 0., 2., 2.,\n",
       "       2., 0., 0., 0., 1., 2., 1., 0., 2., 0., 2., 0., 2., 1., 2., 0., 2.,\n",
       "       0., 1., 2., 2., 0., 0., 2., 0., 2., 0., 0., 0., 0., 1., 2., 0., 1.,\n",
       "       1., 0., 0., 2., 1., 1., 2., 0., 1., 0., 2., 0., 2., 2.])"
      ]
     },
     "execution_count": 31,
     "metadata": {},
     "output_type": "execute_result"
    }
   ],
   "source": [
    "labels"
   ]
  },
  {
   "cell_type": "code",
   "execution_count": null,
   "metadata": {},
   "outputs": [],
   "source": []
  },
  {
   "cell_type": "code",
   "execution_count": null,
   "metadata": {},
   "outputs": [],
   "source": []
  }
 ],
 "metadata": {
  "kernelspec": {
   "display_name": "Python 3",
   "language": "python",
   "name": "python3"
  },
  "language_info": {
   "codemirror_mode": {
    "name": "ipython",
    "version": 3
   },
   "file_extension": ".py",
   "mimetype": "text/x-python",
   "name": "python",
   "nbconvert_exporter": "python",
   "pygments_lexer": "ipython3",
   "version": "3.7.7"
  }
 },
 "nbformat": 4,
 "nbformat_minor": 4
}
