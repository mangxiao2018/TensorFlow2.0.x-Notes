{
 "cells": [
  {
   "cell_type": "markdown",
   "metadata": {},
   "source": [
    "## 案例-自定义线性回归模型"
   ]
  },
  {
   "cell_type": "markdown",
   "metadata": {},
   "source": [
    "$ y = x \\cdot w + b $\n",
    "\n",
    "假设 $ x \\in R^{(150, 4)} , w \\in R^{(4, 1)} , b \\in R^{(4)} $ 返回 $ y \\in R^{(150, 1)} $"
   ]
  },
  {
   "cell_type": "code",
   "execution_count": 1,
   "metadata": {},
   "outputs": [],
   "source": [
    "from sklearn import datasets\n",
    "\n",
    "iris = datasets.load_iris()"
   ]
  },
  {
   "cell_type": "code",
   "execution_count": 2,
   "metadata": {},
   "outputs": [],
   "source": [
    "data = iris.data\n",
    "target = iris.target"
   ]
  },
  {
   "cell_type": "code",
   "execution_count": 3,
   "metadata": {},
   "outputs": [
    {
     "data": {
      "text/plain": [
       "(150, 4)"
      ]
     },
     "execution_count": 3,
     "metadata": {},
     "output_type": "execute_result"
    }
   ],
   "source": [
    "data.shape"
   ]
  },
  {
   "cell_type": "code",
   "execution_count": 4,
   "metadata": {},
   "outputs": [
    {
     "data": {
      "text/plain": [
       "(150,)"
      ]
     },
     "execution_count": 4,
     "metadata": {},
     "output_type": "execute_result"
    }
   ],
   "source": [
    "target.shape"
   ]
  },
  {
   "cell_type": "markdown",
   "metadata": {},
   "source": [
    "### 方法1、"
   ]
  },
  {
   "cell_type": "code",
   "execution_count": 6,
   "metadata": {},
   "outputs": [
    {
     "name": "stdout",
     "output_type": "stream",
     "text": [
      "WARNING:tensorflow:Layer linear is casting an input tensor from dtype float64 to the layer's dtype of float32, which is new behavior in TensorFlow 2.  The layer has dtype float32 because it's dtype defaults to floatx.\n",
      "\n",
      "If you intended to run this layer in float32, you can safely ignore this warning. If in doubt, this warning is likely only an issue if you are porting a TensorFlow 1.X model to TensorFlow 2.\n",
      "\n",
      "To change all layers to have dtype float64 by default, call `tf.keras.backend.set_floatx('float64')`. To change just this layer, pass dtype='float64' to the layer constructor. If you are the author of this layer, you can disable autocasting by passing autocast=False to the base Layer constructor.\n",
      "\n",
      "(150, 1)\n"
     ]
    }
   ],
   "source": [
    "import tensorflow as tf\n",
    "\n",
    "class Linear(tf.keras.layers.Layer):\n",
    "    \n",
    "    def __init__(self, units=1, input_dim=4):\n",
    "        super(Linear, self).__init__()\n",
    "        w_init = tf.random_normal_initializer()\n",
    "        self.w = tf.Variable(initial_value = w_init(shape=(input_dim, units),dtype='float32'), trainable=True)\n",
    "        b_init = tf.zeros_initializer()\n",
    "        self.b = tf.Variable(initial_value = b_init(shape=(units,),dtype='float32'),trainable=True)\n",
    "        \n",
    "    def call(self, inputs):\n",
    "        return tf.matmul(inputs, self.w) + self.b\n",
    "\n",
    "x = tf.constant(data)\n",
    "linear_layer = Linear(units = 1, input_dim=4)\n",
    "y = linear_layer(x)\n",
    "print(y.shape)"
   ]
  },
  {
   "cell_type": "code",
   "execution_count": 7,
   "metadata": {},
   "outputs": [
    {
     "data": {
      "text/plain": [
       "<tf.Tensor: id=28, shape=(150, 1), dtype=float32, numpy=\n",
       "array([[-0.49244776],\n",
       "       [-0.4534568 ],\n",
       "       [-0.45271707],\n",
       "       [-0.4431098 ],\n",
       "       [-0.49245986],\n",
       "       [-0.53675854],\n",
       "       [-0.4605867 ],\n",
       "       [-0.48207662],\n",
       "       [-0.42007568],\n",
       "       [-0.45827433],\n",
       "       [-0.5210435 ],\n",
       "       [-0.4717176 ],\n",
       "       [-0.44637528],\n",
       "       [-0.41627595],\n",
       "       [-0.5577185 ],\n",
       "       [-0.5797832 ],\n",
       "       [-0.5337028 ],\n",
       "       [-0.4939678 ],\n",
       "       [-0.5463494 ],\n",
       "       [-0.51145256],\n",
       "       [-0.50585055],\n",
       "       [-0.50739896],\n",
       "       [-0.4671581 ],\n",
       "       [-0.48815247],\n",
       "       [-0.47400942],\n",
       "       [-0.46054614],\n",
       "       [-0.48588058],\n",
       "       [-0.49877325],\n",
       "       [-0.49243566],\n",
       "       [-0.45500886],\n",
       "       [-0.45499676],\n",
       "       [-0.5073627 ],\n",
       "       [-0.53069484],\n",
       "       [-0.553709  ],\n",
       "       [-0.45979434],\n",
       "       [-0.4686376 ],\n",
       "       [-0.51392984],\n",
       "       [-0.48537838],\n",
       "       [-0.42488533],\n",
       "       [-0.48763815],\n",
       "       [-0.4876424 ],\n",
       "       [-0.39295167],\n",
       "       [-0.43603256],\n",
       "       [-0.49449426],\n",
       "       [-0.51602834],\n",
       "       [-0.44941533],\n",
       "       [-0.51069653],\n",
       "       [-0.44791946],\n",
       "       [-0.515482  ],\n",
       "       [-0.47573906],\n",
       "       [-0.6248458 ],\n",
       "       [-0.591469  ],\n",
       "       [-0.61675864],\n",
       "       [-0.48439327],\n",
       "       [-0.57549995],\n",
       "       [-0.527204  ],\n",
       "       [-0.594529  ],\n",
       "       [-0.44669026],\n",
       "       [-0.58359504],\n",
       "       [-0.49075928],\n",
       "       [-0.4314852 ],\n",
       "       [-0.55022246],\n",
       "       [-0.5020671 ],\n",
       "       [-0.5580715 ],\n",
       "       [-0.5203406 ],\n",
       "       [-0.6002959 ],\n",
       "       [-0.5358298 ],\n",
       "       [-0.5195761 ],\n",
       "       [-0.52461   ],\n",
       "       [-0.497298  ],\n",
       "       [-0.57051337],\n",
       "       [-0.5456303 ],\n",
       "       [-0.54994804],\n",
       "       [-0.54945785],\n",
       "       [-0.57018024],\n",
       "       [-0.5891608 ],\n",
       "       [-0.59219235],\n",
       "       [-0.603866  ],\n",
       "       [-0.5525022 ],\n",
       "       [-0.5038573 ],\n",
       "       [-0.48539895],\n",
       "       [-0.48311502],\n",
       "       [-0.52108824],\n",
       "       [-0.5474586 ],\n",
       "       [-0.5247068 ],\n",
       "       [-0.58189017],\n",
       "       [-0.60410774],\n",
       "       [-0.53194106],\n",
       "       [-0.5297339 ],\n",
       "       [-0.49554047],\n",
       "       [-0.50264984],\n",
       "       [-0.5628812 ],\n",
       "       [-0.51627856],\n",
       "       [-0.44667813],\n",
       "       [-0.5137771 ],\n",
       "       [-0.53453934],\n",
       "       [-0.53048575],\n",
       "       [-0.55905724],\n",
       "       [-0.46261504],\n",
       "       [-0.5241482 ],\n",
       "       [-0.61814046],\n",
       "       [-0.5408957 ],\n",
       "       [-0.63906753],\n",
       "       [-0.5821501 ],\n",
       "       [-0.6064547 ],\n",
       "       [-0.6722226 ],\n",
       "       [-0.4720713 ],\n",
       "       [-0.64311266],\n",
       "       [-0.58362955],\n",
       "       [-0.6856786 ],\n",
       "       [-0.60921425],\n",
       "       [-0.57579255],\n",
       "       [-0.61932737],\n",
       "       [-0.52494305],\n",
       "       [-0.55406946],\n",
       "       [-0.6097407 ],\n",
       "       [-0.5980828 ],\n",
       "       [-0.72465694],\n",
       "       [-0.6608217 ],\n",
       "       [-0.5173066 ],\n",
       "       [-0.64060396],\n",
       "       [-0.53533846],\n",
       "       [-0.66588086],\n",
       "       [-0.5656553 ],\n",
       "       [-0.63201445],\n",
       "       [-0.65198016],\n",
       "       [-0.56490344],\n",
       "       [-0.5712531 ],\n",
       "       [-0.586698  ],\n",
       "       [-0.636265  ],\n",
       "       [-0.6430927 ],\n",
       "       [-0.7304481 ],\n",
       "       [-0.58821803],\n",
       "       [-0.5681967 ],\n",
       "       [-0.5482262 ],\n",
       "       [-0.6770045 ],\n",
       "       [-0.61913824],\n",
       "       [-0.5980948 ],\n",
       "       [-0.56492764],\n",
       "       [-0.62969846],\n",
       "       [-0.6246634 ],\n",
       "       [-0.6304467 ],\n",
       "       [-0.5408957 ],\n",
       "       [-0.6365704 ],\n",
       "       [-0.63809454],\n",
       "       [-0.614514  ],\n",
       "       [-0.5567921 ],\n",
       "       [-0.598831  ],\n",
       "       [-0.6105288 ],\n",
       "       [-0.56165797]], dtype=float32)>"
      ]
     },
     "execution_count": 7,
     "metadata": {},
     "output_type": "execute_result"
    }
   ],
   "source": [
    "y"
   ]
  },
  {
   "cell_type": "markdown",
   "metadata": {},
   "source": [
    "### 方法2、"
   ]
  },
  {
   "cell_type": "code",
   "execution_count": null,
   "metadata": {},
   "outputs": [],
   "source": []
  }
 ],
 "metadata": {
  "kernelspec": {
   "display_name": "Python 3",
   "language": "python",
   "name": "python3"
  },
  "language_info": {
   "codemirror_mode": {
    "name": "ipython",
    "version": 3
   },
   "file_extension": ".py",
   "mimetype": "text/x-python",
   "name": "python",
   "nbconvert_exporter": "python",
   "pygments_lexer": "ipython3",
   "version": "3.7.7"
  }
 },
 "nbformat": 4,
 "nbformat_minor": 4
}
