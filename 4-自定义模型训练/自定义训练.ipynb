{
 "cells": [
  {
   "cell_type": "code",
   "execution_count": 1,
   "metadata": {},
   "outputs": [
    {
     "name": "stdout",
     "output_type": "stream",
     "text": [
      "2.0.0-rc0\n"
     ]
    }
   ],
   "source": [
    "import tensorflow as tf\n",
    "print(tf.__version__)"
   ]
  },
  {
   "cell_type": "markdown",
   "metadata": {},
   "source": [
    "## 自动求导机制"
   ]
  },
  {
   "cell_type": "markdown",
   "metadata": {},
   "source": [
    "- GradientTape是eager模式下计算梯度用的\n",
    "- watch(tensor)\n",
    "\n",
    "作用：确保某个tensor被tape追踪\n",
    "\n",
    "参数:tensor：一个Tensor或者一个Tensor列表\n",
    "\n",
    "- gradient(target, sources)\n",
    "\n",
    "作用：根据tape上面的上下文来计算某个或者某些tensor的梯度参数\n",
    "\n",
    "target:被微分的Tensor或Tensor列表，你可以理角为经过某个函数之后的值\n",
    "\n",
    "sources：Tensors或者Variables列表（当然可以只有一个值），你可以理解为函数的某个变量\n",
    "\n",
    "返回：\n",
    "\n",
    "一个列表表示各个变理的梯度值，和source中的变量列表一一对应，表明这个变量的梯度。\n",
    "\n",
    "下面的例子可中的梯度计算部分可以更直观的理解这个函数的用法。"
   ]
  },
  {
   "cell_type": "code",
   "execution_count": 2,
   "metadata": {},
   "outputs": [],
   "source": [
    "x = tf.constant(3.0)\n",
    "\n",
    "with tf.GradientTape() as g:\n",
    "    g.watch(x)\n",
    "    y = x * x\n",
    "    dy_dx = g.gradient(y, x) #y` = 2*x = 2*3 =6"
   ]
  },
  {
   "cell_type": "code",
   "execution_count": 3,
   "metadata": {},
   "outputs": [
    {
     "data": {
      "text/plain": [
       "<tf.Tensor: id=5, shape=(), dtype=float32, numpy=6.0>"
      ]
     },
     "execution_count": 3,
     "metadata": {},
     "output_type": "execute_result"
    }
   ],
   "source": [
    "dy_dx"
   ]
  },
  {
   "cell_type": "code",
   "execution_count": null,
   "metadata": {},
   "outputs": [],
   "source": []
  }
 ],
 "metadata": {
  "kernelspec": {
   "display_name": "Python 3",
   "language": "python",
   "name": "python3"
  },
  "language_info": {
   "codemirror_mode": {
    "name": "ipython",
    "version": 3
   },
   "file_extension": ".py",
   "mimetype": "text/x-python",
   "name": "python",
   "nbconvert_exporter": "python",
   "pygments_lexer": "ipython3",
   "version": "3.7.7"
  }
 },
 "nbformat": 4,
 "nbformat_minor": 4
}
