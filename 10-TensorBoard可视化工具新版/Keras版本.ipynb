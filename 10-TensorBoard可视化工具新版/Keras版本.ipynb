{
 "cells": [
  {
   "cell_type": "markdown",
   "metadata": {},
   "source": [
    "## TensorBoard-Keras模型训练使用TensorBoard"
   ]
  },
  {
   "cell_type": "code",
   "execution_count": 2,
   "metadata": {},
   "outputs": [
    {
     "name": "stdout",
     "output_type": "stream",
     "text": [
      "2.2.0\n",
      "1.18.4\n"
     ]
    }
   ],
   "source": [
    "from __future__ import absolute_import, division, print_function, unicode_literals\n",
    "\n",
    "import tensorflow as tf\n",
    "\n",
    "from tensorflow.keras.layers import Dense, Flatten, Conv2D\n",
    "from tensorflow.keras import Model\n",
    "import numpy as np\n",
    "import datetime\n",
    "import warnings\n",
    "warnings.filterwarnings('ignore')\n",
    "\n",
    "print(tf.__version__)\n",
    "print(np.__version__)"
   ]
  },
  {
   "cell_type": "code",
   "execution_count": 3,
   "metadata": {},
   "outputs": [],
   "source": [
    "mnist = np.load(\"mnist.npz\")\n",
    "x_train, y_train, x_test, y_test = mnist['x_train'],mnist['y_train'],mnist['x_test'],mnist['y_test']\n",
    "\n",
    "x_train, x_test = x_train / 255.0, x_test / 255.0\n",
    "\n",
    "# Add a channels dimension\n",
    "x_train = x_train[..., tf.newaxis]\n",
    "x_test = x_test[..., tf.newaxis]"
   ]
  },
  {
   "cell_type": "code",
   "execution_count": 4,
   "metadata": {},
   "outputs": [],
   "source": [
    "class MyModel(Model):\n",
    "    def __init__(self):\n",
    "        super(MyModel, self).__init__()\n",
    "        self.conv1 = Conv2D(32, 3, activation='relu')\n",
    "        self.flatten = Flatten()\n",
    "        self.d1 = Dense(128, activation='relu')\n",
    "        self.d2 = Dense(10, activation='softmax')\n",
    "    @tf.function\n",
    "    def call(self, x):\n",
    "        x = self.conv1(x)\n",
    "        x = self.flatten(x)\n",
    "        x = self.d1(x)\n",
    "        return self.d2(x)"
   ]
  },
  {
   "cell_type": "code",
   "execution_count": null,
   "metadata": {},
   "outputs": [
    {
     "name": "stdout",
     "output_type": "stream",
     "text": [
      "Epoch 1/20\n",
      "1875/1875 [==============================] - 36s 19ms/step - loss: 0.1387 - accuracy: 0.9576 - val_loss: 0.0614 - val_accuracy: 0.9800\n",
      "Epoch 2/20\n",
      "1875/1875 [==============================] - 38s 20ms/step - loss: 0.0402 - accuracy: 0.9878 - val_loss: 0.0716 - val_accuracy: 0.9758\n",
      "Epoch 3/20\n",
      "1875/1875 [==============================] - 38s 20ms/step - loss: 0.0223 - accuracy: 0.9926 - val_loss: 0.0482 - val_accuracy: 0.9845\n",
      "Epoch 4/20\n",
      "1875/1875 [==============================] - 38s 20ms/step - loss: 0.0126 - accuracy: 0.9959 - val_loss: 0.0594 - val_accuracy: 0.9837\n",
      "Epoch 5/20\n",
      "1875/1875 [==============================] - 38s 20ms/step - loss: 0.0079 - accuracy: 0.9976 - val_loss: 0.0665 - val_accuracy: 0.9838\n",
      "Epoch 6/20\n",
      "1875/1875 [==============================] - 38s 20ms/step - loss: 0.0071 - accuracy: 0.9977 - val_loss: 0.0646 - val_accuracy: 0.9854\n",
      "Epoch 7/20\n",
      "1875/1875 [==============================] - 38s 20ms/step - loss: 0.0052 - accuracy: 0.9983 - val_loss: 0.0727 - val_accuracy: 0.9843\n",
      "Epoch 8/20\n",
      "1875/1875 [==============================] - 38s 20ms/step - loss: 0.0056 - accuracy: 0.9981 - val_loss: 0.0667 - val_accuracy: 0.9861\n",
      "Epoch 9/20\n",
      "1875/1875 [==============================] - 36s 19ms/step - loss: 0.0045 - accuracy: 0.9987 - val_loss: 0.0713 - val_accuracy: 0.9844\n",
      "Epoch 10/20\n",
      "1875/1875 [==============================] - 37s 20ms/step - loss: 0.0013 - accuracy: 0.9997 - val_loss: 0.0898 - val_accuracy: 0.9832\n",
      "Epoch 11/20\n",
      "1875/1875 [==============================] - 37s 20ms/step - loss: 0.0048 - accuracy: 0.9985 - val_loss: 0.0814 - val_accuracy: 0.9858\n",
      "Epoch 12/20\n",
      "1875/1875 [==============================] - 37s 20ms/step - loss: 0.0032 - accuracy: 0.9990 - val_loss: 0.0857 - val_accuracy: 0.9848\n",
      "Epoch 13/20\n",
      "1875/1875 [==============================] - 37s 20ms/step - loss: 0.0028 - accuracy: 0.9992 - val_loss: 0.0932 - val_accuracy: 0.9831\n",
      "Epoch 14/20\n",
      "1875/1875 [==============================] - 37s 20ms/step - loss: 0.0021 - accuracy: 0.9994 - val_loss: 0.0859 - val_accuracy: 0.9835\n",
      "Epoch 15/20\n",
      "1875/1875 [==============================] - 37s 20ms/step - loss: 0.0029 - accuracy: 0.9992 - val_loss: 0.0917 - val_accuracy: 0.9852\n",
      "Epoch 16/20\n",
      "1875/1875 [==============================] - 37s 20ms/step - loss: 0.0019 - accuracy: 0.9995 - val_loss: 0.0960 - val_accuracy: 0.9851\n",
      "Epoch 17/20\n",
      "1875/1875 [==============================] - 37s 20ms/step - loss: 0.0023 - accuracy: 0.9994 - val_loss: 0.0934 - val_accuracy: 0.9846\n",
      "Epoch 18/20\n",
      "1875/1875 [==============================] - 38s 20ms/step - loss: 9.0388e-04 - accuracy: 0.9998 - val_loss: 0.0922 - val_accuracy: 0.9852\n",
      "Epoch 19/20\n",
      "1875/1875 [==============================] - 39s 21ms/step - loss: 0.0035 - accuracy: 0.9991 - val_loss: 0.0866 - val_accuracy: 0.9856\n",
      "Epoch 20/20\n",
      " 121/1875 [>.............................] - ETA: 32s - loss: 2.0603e-04 - accuracy: 1.0000"
     ]
    }
   ],
   "source": [
    "model = MyModel()\n",
    "model.compile(optimizer='adam',\n",
    "              loss='sparse_categorical_crossentropy',\n",
    "              metrics=['accuracy'])\n",
    "\n",
    "\n",
    "tensorboard_callback = tf.keras.callbacks.TensorBoard(log_dir=\"keras_logv3\", \n",
    "                                                      histogram_freq=1,\n",
    "                                                      profile_batch = 100000000)\n",
    "\n",
    "model.fit(x=x_train, \n",
    "          y=y_train, \n",
    "          epochs=20, \n",
    "          validation_data=(x_test, y_test), \n",
    "          callbacks=[tensorboard_callback])"
   ]
  },
  {
   "cell_type": "code",
   "execution_count": null,
   "metadata": {},
   "outputs": [],
   "source": [
    "%load_ext tensorboard"
   ]
  },
  {
   "cell_type": "code",
   "execution_count": 8,
   "metadata": {},
   "outputs": [
    {
     "data": {
      "text/plain": [
       "Reusing TensorBoard on port 6006 (pid 6640), started 0:02:02 ago. (Use '!kill 6640' to kill it.)"
      ]
     },
     "metadata": {},
     "output_type": "display_data"
    },
    {
     "data": {
      "text/html": [
       "\n",
       "      <iframe id=\"tensorboard-frame-2c98900f8086a90c\" width=\"100%\" height=\"800\" frameborder=\"0\">\n",
       "      </iframe>\n",
       "      <script>\n",
       "        (function() {\n",
       "          const frame = document.getElementById(\"tensorboard-frame-2c98900f8086a90c\");\n",
       "          const url = new URL(\"/\", window.location);\n",
       "          url.port = 6006;\n",
       "          frame.src = url;\n",
       "        })();\n",
       "      </script>\n",
       "  "
      ],
      "text/plain": [
       "<IPython.core.display.HTML object>"
      ]
     },
     "metadata": {},
     "output_type": "display_data"
    }
   ],
   "source": [
    "%tensorboard --logdir keras_log"
   ]
  },
  {
   "cell_type": "markdown",
   "metadata": {},
   "source": [
    "### Window 10下tensorboard打开方式"
   ]
  },
  {
   "cell_type": "markdown",
   "metadata": {},
   "source": [
    "- step1、执行完上面代码 model.fit()  \n",
    "\n",
    "- step2、cmd打开dos命令行  \n",
    "\n",
    "- step3、把路径切换到\"Keras版本.ipynb\"所在目前，本例子路径为:\"D:\\workspace\\Python-Projects\\TensorFlow2.0.x-Notes\\10-TensorBoard可视化工具新版>\"  \n",
    "\n",
    "- step4、执行命令tensorboard --logdir=日志所在路径，本例子生成的日志路径为:\"D:\\workspace\\Python-Projects\\TensorFlow2.0.x-Notes\\10-TensorBoard可视化工具新版\\keras_logv2\"  \n",
    "\n",
    "- step5、当执行完执行，看到\"TensorBoard 1.15.0a20190806 at http://LAPTOP-A3MTP761:6006/ (Press CTRL+C to quit)\" 表示执行成功  \n",
    "\n",
    "- step6、在chrome浏览器地址栏输入:http://localhost:6006/ 就可以正确打开TersorBoard了  "
   ]
  },
  {
   "cell_type": "markdown",
   "metadata": {},
   "source": [
    "TensorBoad界面截图如下：(注意地址不能使用127.0.0.1使用localhost可以，亲测)"
   ]
  },
  {
   "cell_type": "markdown",
   "metadata": {},
   "source": [
    "![image.png](./images/cmd-1.jpg)"
   ]
  },
  {
   "cell_type": "markdown",
   "metadata": {},
   "source": [
    "![image.png](./images/accuracy&loss.jpg)"
   ]
  },
  {
   "cell_type": "markdown",
   "metadata": {},
   "source": [
    "![image.png](./images/graph.jpg)"
   ]
  },
  {
   "cell_type": "markdown",
   "metadata": {},
   "source": [
    "![image.png](./images/conv2d&dense.jpg)"
   ]
  },
  {
   "cell_type": "markdown",
   "metadata": {},
   "source": [
    "![image.png](./images/Histograms.jpg)"
   ]
  },
  {
   "cell_type": "markdown",
   "metadata": {},
   "source": [
    "![image.png](./images/Histograms-1.jpg)"
   ]
  },
  {
   "cell_type": "markdown",
   "metadata": {},
   "source": [
    "![image.png](./images/Histograms-2.jpg)"
   ]
  },
  {
   "cell_type": "markdown",
   "metadata": {},
   "source": [
    "![image.png](./images/Histograms-3.jpg)"
   ]
  },
  {
   "cell_type": "markdown",
   "metadata": {},
   "source": [
    "![image.png](./images/Histograms-4.jpg)"
   ]
  },
  {
   "cell_type": "code",
   "execution_count": 6,
   "metadata": {},
   "outputs": [
    {
     "name": "stdout",
     "output_type": "stream",
     "text": [
      "c:\\users\\zhangyanqing\\.conda\\envs\\tf2.0\\python.exe\n"
     ]
    }
   ],
   "source": [
    "import sys\n",
    "print(sys.executable)"
   ]
  },
  {
   "cell_type": "code",
   "execution_count": 7,
   "metadata": {},
   "outputs": [
    {
     "name": "stdout",
     "output_type": "stream",
     "text": [
      "D:\\workspace\\Python-Projects\\TensorFlow2.0.x-Notes\\10-TensorBoard可视化工具新版\n"
     ]
    }
   ],
   "source": [
    "import os\n",
    "print(os.path.abspath('.'))"
   ]
  },
  {
   "cell_type": "code",
   "execution_count": null,
   "metadata": {},
   "outputs": [],
   "source": []
  }
 ],
 "metadata": {
  "kernelspec": {
   "display_name": "Python 3",
   "language": "python",
   "name": "python3"
  },
  "language_info": {
   "codemirror_mode": {
    "name": "ipython",
    "version": 3
   },
   "file_extension": ".py",
   "mimetype": "text/x-python",
   "name": "python",
   "nbconvert_exporter": "python",
   "pygments_lexer": "ipython3",
   "version": "3.7.7"
  }
 },
 "nbformat": 4,
 "nbformat_minor": 4
}
