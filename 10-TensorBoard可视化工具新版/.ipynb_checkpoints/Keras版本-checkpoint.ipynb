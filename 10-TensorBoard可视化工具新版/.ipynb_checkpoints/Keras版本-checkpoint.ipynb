{
 "cells": [
  {
   "cell_type": "markdown",
   "metadata": {},
   "source": [
    "## TensorBoard-Keras模型训练使用TensorBoard"
   ]
  },
  {
   "cell_type": "code",
   "execution_count": 1,
   "metadata": {},
   "outputs": [
    {
     "ename": "NameError",
     "evalue": "name 'warnings' is not defined",
     "output_type": "error",
     "traceback": [
      "\u001b[1;31m---------------------------------------------------------------------------\u001b[0m",
      "\u001b[1;31mNameError\u001b[0m                                 Traceback (most recent call last)",
      "\u001b[1;32m<ipython-input-1-5b2d697cfb15>\u001b[0m in \u001b[0;36m<module>\u001b[1;34m\u001b[0m\n\u001b[0;32m      7\u001b[0m \u001b[1;32mimport\u001b[0m \u001b[0mnumpy\u001b[0m \u001b[1;32mas\u001b[0m \u001b[0mnp\u001b[0m\u001b[1;33m\u001b[0m\u001b[1;33m\u001b[0m\u001b[0m\n\u001b[0;32m      8\u001b[0m \u001b[1;32mimport\u001b[0m \u001b[0mdatetime\u001b[0m\u001b[1;33m\u001b[0m\u001b[1;33m\u001b[0m\u001b[0m\n\u001b[1;32m----> 9\u001b[1;33m \u001b[0mwarnings\u001b[0m\u001b[1;33m.\u001b[0m\u001b[0mfilterwarnings\u001b[0m\u001b[1;33m(\u001b[0m\u001b[1;34m'ignore'\u001b[0m\u001b[1;33m)\u001b[0m\u001b[1;33m\u001b[0m\u001b[1;33m\u001b[0m\u001b[0m\n\u001b[0m\u001b[0;32m     10\u001b[0m \u001b[1;33m\u001b[0m\u001b[0m\n\u001b[0;32m     11\u001b[0m \u001b[0mprint\u001b[0m\u001b[1;33m(\u001b[0m\u001b[0mtf\u001b[0m\u001b[1;33m.\u001b[0m\u001b[0m__version__\u001b[0m\u001b[1;33m)\u001b[0m\u001b[1;33m\u001b[0m\u001b[1;33m\u001b[0m\u001b[0m\n",
      "\u001b[1;31mNameError\u001b[0m: name 'warnings' is not defined"
     ]
    }
   ],
   "source": [
    "from __future__ import absolute_import, division, print_function, unicode_literals\n",
    "\n",
    "import tensorflow as tf\n",
    "\n",
    "from tensorflow.keras.layers import Dense, Flatten, Conv2D\n",
    "from tensorflow.keras import Model\n",
    "import numpy as np\n",
    "import datetime\n",
    "import warnings\n",
    "warnings.filterwarnings('ignore')\n",
    "\n",
    "print(tf.__version__)\n",
    "print(np.__version__)"
   ]
  },
  {
   "cell_type": "code",
   "execution_count": 2,
   "metadata": {},
   "outputs": [],
   "source": [
    "mnist = np.load(\"mnist.npz\")\n",
    "x_train, y_train, x_test, y_test = mnist['x_train'],mnist['y_train'],mnist['x_test'],mnist['y_test']\n",
    "\n",
    "x_train, x_test = x_train / 255.0, x_test / 255.0\n",
    "\n",
    "# Add a channels dimension\n",
    "x_train = x_train[..., tf.newaxis]\n",
    "x_test = x_test[..., tf.newaxis]"
   ]
  },
  {
   "cell_type": "code",
   "execution_count": 3,
   "metadata": {},
   "outputs": [],
   "source": [
    "class MyModel(Model):\n",
    "    def __init__(self):\n",
    "        super(MyModel, self).__init__()\n",
    "        self.conv1 = Conv2D(32, 3, activation='relu')\n",
    "        self.flatten = Flatten()\n",
    "        self.d1 = Dense(128, activation='relu')\n",
    "        self.d2 = Dense(10, activation='softmax')\n",
    "    @tf.function\n",
    "    def call(self, x):\n",
    "        x = self.conv1(x)\n",
    "        x = self.flatten(x)\n",
    "        x = self.d1(x)\n",
    "        return self.d2(x)"
   ]
  },
  {
   "cell_type": "code",
   "execution_count": 4,
   "metadata": {},
   "outputs": [
    {
     "name": "stdout",
     "output_type": "stream",
     "text": [
      "Train on 60000 samples, validate on 10000 samples\n",
      "Epoch 1/20\n",
      "WARNING:tensorflow:From c:\\users\\zhangyanqing\\.conda\\envs\\tf2.0\\lib\\site-packages\\tensorflow_core\\python\\ops\\math_grad.py:1394: where (from tensorflow.python.ops.array_ops) is deprecated and will be removed in a future version.\n",
      "Instructions for updating:\n",
      "Use tf.where in 2.0, which has the same broadcast rule as np.where\n",
      "60000/60000 [==============================] - 24s 404us/sample - loss: 0.1372 - accuracy: 0.9586 - val_loss: 0.0568 - val_accuracy: 0.9821\n",
      "Epoch 2/20\n",
      "60000/60000 [==============================] - 21s 348us/sample - loss: 0.0426 - accuracy: 0.9865 - val_loss: 0.0590 - val_accuracy: 0.9819\n",
      "Epoch 3/20\n",
      "60000/60000 [==============================] - 22s 360us/sample - loss: 0.0222 - accuracy: 0.9929 - val_loss: 0.0536 - val_accuracy: 0.9845\n",
      "Epoch 4/20\n",
      "60000/60000 [==============================] - 21s 351us/sample - loss: 0.0130 - accuracy: 0.9960 - val_loss: 0.0621 - val_accuracy: 0.9831\n",
      "Epoch 5/20\n",
      "60000/60000 [==============================] - 21s 354us/sample - loss: 0.0101 - accuracy: 0.9964 - val_loss: 0.0569 - val_accuracy: 0.9840\n",
      "Epoch 6/20\n",
      "60000/60000 [==============================] - 20s 336us/sample - loss: 0.0066 - accuracy: 0.9978 - val_loss: 0.0610 - val_accuracy: 0.9850\n",
      "Epoch 7/20\n",
      "60000/60000 [==============================] - 23s 375us/sample - loss: 0.0057 - accuracy: 0.9983 - val_loss: 0.0696 - val_accuracy: 0.9855\n",
      "Epoch 8/20\n",
      "60000/60000 [==============================] - 23s 381us/sample - loss: 0.0040 - accuracy: 0.9987 - val_loss: 0.0730 - val_accuracy: 0.9841\n",
      "Epoch 9/20\n",
      "60000/60000 [==============================] - 24s 394us/sample - loss: 0.0044 - accuracy: 0.9985 - val_loss: 0.0736 - val_accuracy: 0.9851\n",
      "Epoch 10/20\n",
      "60000/60000 [==============================] - 23s 382us/sample - loss: 0.0032 - accuracy: 0.9988 - val_loss: 0.0750 - val_accuracy: 0.9852\n",
      "Epoch 11/20\n",
      "60000/60000 [==============================] - 24s 399us/sample - loss: 0.0027 - accuracy: 0.9992 - val_loss: 0.0763 - val_accuracy: 0.9847\n",
      "Epoch 12/20\n",
      "60000/60000 [==============================] - 24s 404us/sample - loss: 0.0037 - accuracy: 0.9988 - val_loss: 0.0847 - val_accuracy: 0.9859\n",
      "Epoch 13/20\n",
      "60000/60000 [==============================] - 20s 339us/sample - loss: 0.0022 - accuracy: 0.9993 - val_loss: 0.0913 - val_accuracy: 0.9851\n",
      "Epoch 14/20\n",
      "60000/60000 [==============================] - 20s 335us/sample - loss: 0.0036 - accuracy: 0.9987 - val_loss: 0.0942 - val_accuracy: 0.9843\n",
      "Epoch 15/20\n",
      "60000/60000 [==============================] - 21s 353us/sample - loss: 0.0023 - accuracy: 0.9993 - val_loss: 0.0858 - val_accuracy: 0.9857\n",
      "Epoch 16/20\n",
      "60000/60000 [==============================] - 21s 345us/sample - loss: 0.0014 - accuracy: 0.9995 - val_loss: 0.1095 - val_accuracy: 0.9836\n",
      "Epoch 17/20\n",
      "60000/60000 [==============================] - 23s 384us/sample - loss: 0.0024 - accuracy: 0.9993 - val_loss: 0.0930 - val_accuracy: 0.9855\n",
      "Epoch 18/20\n",
      "60000/60000 [==============================] - 22s 375us/sample - loss: 0.0028 - accuracy: 0.9990 - val_loss: 0.0982 - val_accuracy: 0.9831\n",
      "Epoch 19/20\n",
      "60000/60000 [==============================] - 22s 373us/sample - loss: 0.0020 - accuracy: 0.9993 - val_loss: 0.1012 - val_accuracy: 0.9836\n",
      "Epoch 20/20\n",
      "60000/60000 [==============================] - 23s 377us/sample - loss: 3.4381e-04 - accuracy: 0.9999 - val_loss: 0.0936 - val_accuracy: 0.9855\n"
     ]
    },
    {
     "data": {
      "text/plain": [
       "<tensorflow.python.keras.callbacks.History at 0x22ca5debb48>"
      ]
     },
     "execution_count": 4,
     "metadata": {},
     "output_type": "execute_result"
    }
   ],
   "source": [
    "model = MyModel()\n",
    "model.compile(optimizer='adam',\n",
    "              loss='sparse_categorical_crossentropy',\n",
    "              metrics=['accuracy'])\n",
    "\n",
    "\n",
    "tensorboard_callback = tf.keras.callbacks.TensorBoard(log_dir=\"keras_logv3\", \n",
    "                                                      histogram_freq=1,\n",
    "                                                      profile_batch = 100000000)\n",
    "\n",
    "model.fit(x=x_train, \n",
    "          y=y_train, \n",
    "          epochs=20, \n",
    "          validation_data=(x_test, y_test), \n",
    "          callbacks=[tensorboard_callback])"
   ]
  },
  {
   "cell_type": "code",
   "execution_count": 5,
   "metadata": {},
   "outputs": [],
   "source": [
    "%load_ext tensorboard"
   ]
  },
  {
   "cell_type": "code",
   "execution_count": 8,
   "metadata": {},
   "outputs": [
    {
     "data": {
      "text/plain": [
       "Reusing TensorBoard on port 6006 (pid 6640), started 0:02:02 ago. (Use '!kill 6640' to kill it.)"
      ]
     },
     "metadata": {},
     "output_type": "display_data"
    },
    {
     "data": {
      "text/html": [
       "\n",
       "      <iframe id=\"tensorboard-frame-2c98900f8086a90c\" width=\"100%\" height=\"800\" frameborder=\"0\">\n",
       "      </iframe>\n",
       "      <script>\n",
       "        (function() {\n",
       "          const frame = document.getElementById(\"tensorboard-frame-2c98900f8086a90c\");\n",
       "          const url = new URL(\"/\", window.location);\n",
       "          url.port = 6006;\n",
       "          frame.src = url;\n",
       "        })();\n",
       "      </script>\n",
       "  "
      ],
      "text/plain": [
       "<IPython.core.display.HTML object>"
      ]
     },
     "metadata": {},
     "output_type": "display_data"
    }
   ],
   "source": [
    "%tensorboard --logdir keras_log"
   ]
  },
  {
   "cell_type": "markdown",
   "metadata": {},
   "source": [
    "### Window 10下tensorboard打开方式"
   ]
  },
  {
   "cell_type": "markdown",
   "metadata": {},
   "source": [
    "- step1、执行完上面代码 model.fit()  \n",
    "\n",
    "- step2、cmd打开dos命令行  \n",
    "\n",
    "- step3、把路径切换到\"Keras版本.ipynb\"所在目前，本例子路径为:\"D:\\workspace\\Python-Projects\\TensorFlow2.0.x-Notes\\10-TensorBoard可视化工具新版>\"  \n",
    "\n",
    "- step4、执行命令tensorboard --logdir=日志所在路径，本例子生成的日志路径为:\"D:\\workspace\\Python-Projects\\TensorFlow2.0.x-Notes\\10-TensorBoard可视化工具新版\\keras_logv2\"  \n",
    "\n",
    "- step5、当执行完执行，看到\"TensorBoard 1.15.0a20190806 at http://LAPTOP-A3MTP761:6006/ (Press CTRL+C to quit)\" 表示执行成功  \n",
    "\n",
    "- step6、在chrome浏览器地址栏输入:http://localhost:6006/ 就可以正确打开TersorBoard了  "
   ]
  },
  {
   "cell_type": "markdown",
   "metadata": {},
   "source": [
    "TensorBoad界面截图如下：(注意地址不能使用127.0.0.1使用localhost可以，亲测)"
   ]
  },
  {
   "cell_type": "markdown",
   "metadata": {},
   "source": [
    "![image.png](./images/cmd-1.jpg)"
   ]
  },
  {
   "cell_type": "markdown",
   "metadata": {},
   "source": [
    "![image.png](./images/accuracy&loss.jpg)"
   ]
  },
  {
   "cell_type": "markdown",
   "metadata": {},
   "source": [
    "![image.png](./images/graph.jpg)"
   ]
  },
  {
   "cell_type": "markdown",
   "metadata": {},
   "source": [
    "![image.png](./images/conv2d&dense.jpg)"
   ]
  },
  {
   "cell_type": "markdown",
   "metadata": {},
   "source": [
    "![image.png](./images/Histograms.jpg)"
   ]
  },
  {
   "cell_type": "markdown",
   "metadata": {},
   "source": [
    "![image.png](./images/Histograms-1.jpg)"
   ]
  },
  {
   "cell_type": "markdown",
   "metadata": {},
   "source": [
    "![image.png](./images/Histograms-2.jpg)"
   ]
  },
  {
   "cell_type": "markdown",
   "metadata": {},
   "source": [
    "![image.png](./images/Histograms-3.jpg)"
   ]
  },
  {
   "cell_type": "markdown",
   "metadata": {},
   "source": [
    "![image.png](./images/Histograms-4.jpg)"
   ]
  },
  {
   "cell_type": "code",
   "execution_count": 6,
   "metadata": {},
   "outputs": [
    {
     "name": "stdout",
     "output_type": "stream",
     "text": [
      "c:\\users\\zhangyanqing\\.conda\\envs\\tf2.0\\python.exe\n"
     ]
    }
   ],
   "source": [
    "import sys\n",
    "print(sys.executable)"
   ]
  },
  {
   "cell_type": "code",
   "execution_count": 7,
   "metadata": {},
   "outputs": [
    {
     "name": "stdout",
     "output_type": "stream",
     "text": [
      "D:\\workspace\\Python-Projects\\TensorFlow2.0.x-Notes\\10-TensorBoard可视化工具新版\n"
     ]
    }
   ],
   "source": [
    "import os\n",
    "print(os.path.abspath('.'))"
   ]
  },
  {
   "cell_type": "code",
   "execution_count": null,
   "metadata": {},
   "outputs": [],
   "source": []
  }
 ],
 "metadata": {
  "kernelspec": {
   "display_name": "Python 3",
   "language": "python",
   "name": "python3"
  },
  "language_info": {
   "codemirror_mode": {
    "name": "ipython",
    "version": 3
   },
   "file_extension": ".py",
   "mimetype": "text/x-python",
   "name": "python",
   "nbconvert_exporter": "python",
   "pygments_lexer": "ipython3",
   "version": "3.7.7"
  }
 },
 "nbformat": 4,
 "nbformat_minor": 4
}
