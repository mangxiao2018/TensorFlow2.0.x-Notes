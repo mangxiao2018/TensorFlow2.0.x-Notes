{
 "cells": [
  {
   "cell_type": "code",
   "execution_count": 1,
   "metadata": {},
   "outputs": [
    {
     "name": "stdout",
     "output_type": "stream",
     "text": [
      "2.2.0\n"
     ]
    }
   ],
   "source": [
    "import tensorflow as tf\n",
    "import time\n",
    "import os\n",
    "print(tf.__version__)"
   ]
  },
  {
   "cell_type": "code",
   "execution_count": 2,
   "metadata": {},
   "outputs": [],
   "source": [
    "data_dir = './datasets'\n",
    "train_cats_dir = data_dir + '/train/cats/'\n",
    "train_dogs_dir = data_dir + '/train/dogs/'\n",
    "test_cats_dir = data_dir + '/valid/cats/'\n",
    "test_dogs_dir = data_dir + '/valid/dogs/'"
   ]
  },
  {
   "cell_type": "code",
   "execution_count": 3,
   "metadata": {},
   "outputs": [],
   "source": [
    "# 构建训练数据集\n",
    "train_cat_filenames = tf.constant([train_cats_dir + filename for filename in os.listdir(train_cats_dir)][:1000])\n",
    "train_dog_filenames = tf.constant([train_dogs_dir + filename for filename in os.listdir(train_dogs_dir)][:1000])\n",
    "train_filenames = tf.concat([train_cat_filenames, train_dog_filenames], axis=-1)\n",
    "train_labels = tf.concat([\n",
    "    tf.zeros(train_cat_filenames.shape, dtype=tf.int32), \n",
    "    tf.ones(train_dog_filenames.shape, dtype=tf.int32)], \n",
    "    axis=-1)"
   ]
  },
  {
   "cell_type": "code",
   "execution_count": 4,
   "metadata": {},
   "outputs": [],
   "source": [
    "#构建训练集\n",
    "\n",
    "def _decode_and_resize(filename, label):\n",
    "    image_string = tf.io.read_file(filename)            # 读取原始文件\n",
    "    image_decoded = tf.image.decode_jpeg(image_string)  # 解码JPEG图片\n",
    "    image_resized = tf.image.resize(image_decoded, [256, 256]) / 255.0\n",
    "    return image_resized, label\n",
    "\n",
    "\n",
    "batch_size = 32\n",
    "train_dataset = tf.data.Dataset.from_tensor_slices((train_filenames, train_labels))\n",
    "\n",
    "def benchmark(dataset, num_epochs=1):\n",
    "    start_time = time.perf_counter()\n",
    "    for epoch_num in range(num_epochs):\n",
    "        for sample in dataset:\n",
    "            # Performing a training step\n",
    "            time.sleep(0.01)\n",
    "    tf.print(\"Execution time:\", time.perf_counter() - start_time)"
   ]
  },
  {
   "cell_type": "code",
   "execution_count": null,
   "metadata": {},
   "outputs": [],
   "source": []
  }
 ],
 "metadata": {
  "kernelspec": {
   "display_name": "Python 3",
   "language": "python",
   "name": "python3"
  },
  "language_info": {
   "codemirror_mode": {
    "name": "ipython",
    "version": 3
   },
   "file_extension": ".py",
   "mimetype": "text/x-python",
   "name": "python",
   "nbconvert_exporter": "python",
   "pygments_lexer": "ipython3",
   "version": "3.7.7"
  }
 },
 "nbformat": 4,
 "nbformat_minor": 4
}
