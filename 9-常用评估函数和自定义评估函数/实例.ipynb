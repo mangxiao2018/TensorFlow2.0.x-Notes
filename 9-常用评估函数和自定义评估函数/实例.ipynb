{
 "cells": [
  {
   "cell_type": "code",
   "execution_count": 1,
   "metadata": {},
   "outputs": [
    {
     "name": "stdout",
     "output_type": "stream",
     "text": [
      "2.0.0-rc0\n"
     ]
    }
   ],
   "source": [
    "import tensorflow as tf\n",
    "print(tf.__version__)"
   ]
  },
  {
   "cell_type": "markdown",
   "metadata": {},
   "source": [
    "## 评估函数使用原理"
   ]
  },
  {
   "cell_type": "code",
   "execution_count": 2,
   "metadata": {},
   "outputs": [
    {
     "name": "stdout",
     "output_type": "stream",
     "text": [
      "Final result: 0.75\n",
      "Final result: 0.625\n"
     ]
    }
   ],
   "source": [
    "m = tf.keras.metrics.Accuracy()\n",
    "m.update_state([1,2,3,4],[0,2,3,4])\n",
    "\n",
    "print('Final result:' , m.result().numpy())\n",
    "\n",
    "#Fianl result : 0.75\n",
    "m.update_state([1,2,3,4],[0,2,3,1])\n",
    "print('Final result:', m.result().numpy())"
   ]
  },
  {
   "cell_type": "code",
   "execution_count": 3,
   "metadata": {},
   "outputs": [
    {
     "name": "stdout",
     "output_type": "stream",
     "text": [
      "Final result: 0.75\n",
      "Final result: 0.625\n"
     ]
    }
   ],
   "source": [
    "m = tf.keras.metrics.Accuracy()\n",
    "m([1,2,3,4],[0,2,3,4])\n",
    "\n",
    "print('Final result:', m.result().numpy())\n",
    "# Final result:0.75\n",
    "m([1,2,3,4],[0,2,3,1])\n",
    "print('Final result:', m.result().numpy())\n"
   ]
  },
  {
   "cell_type": "code",
   "execution_count": 4,
   "metadata": {},
   "outputs": [],
   "source": [
    "m.reset_states()"
   ]
  },
  {
   "cell_type": "code",
   "execution_count": 5,
   "metadata": {},
   "outputs": [
    {
     "name": "stdout",
     "output_type": "stream",
     "text": [
      "Final result: 0.75\n"
     ]
    }
   ],
   "source": [
    "m.update_state([1,2,3,4],[0,2,3,4])\n",
    "print('Final result:', m.result().numpy())"
   ]
  },
  {
   "cell_type": "markdown",
   "metadata": {},
   "source": [
    "## 自定义评估函数"
   ]
  },
  {
   "cell_type": "code",
   "execution_count": 9,
   "metadata": {},
   "outputs": [],
   "source": [
    "class SparseCategoricalAccuracy_(tf.keras.metrics.Metric):\n",
    "    def __init__(self,name='SparseCategoricalAccuracy',**kwargs):\n",
    "        super(SparseCategoricalAccuracy_,self).__init__(name=name,**kwargs)\n",
    "        self.total = self.add_weight(name='total',dtype=tf.int32, initializer=tf.zeros_initializer())\n",
    "        self.count = self.add_weight(name='count',dtype=tf.int32, initializer=tf.zeros_initializer())\n",
    "        \n",
    "    def update_state(self,y_true,y_pred,sample_weight=None):\n",
    "        values = tf.cast(tf.equal(y_true,tf.argmax(y_pred,axis=-1,output_type=tf.int32)), tf.int32)\n",
    "        self.total.assign_add(tf.shape(y_true)[0])\n",
    "        self.count.assign_add(tf.reduce_sum(values))\n",
    "        \n",
    "    def result(self):\n",
    "        return self.count /self.total\n",
    "    \n",
    "    def reset_states(self):\n",
    "        # The state of metric will be reset at the start of each epoch.\n",
    "        self.total.assign(0)\n",
    "        self.count.assign(0)"
   ]
  },
  {
   "cell_type": "code",
   "execution_count": 11,
   "metadata": {},
   "outputs": [
    {
     "name": "stdout",
     "output_type": "stream",
     "text": [
      "Final result: 0.5\n"
     ]
    }
   ],
   "source": [
    "s = SparseCategoricalAccuracy_()\n",
    "s.update_state(tf.constant([2,1]),tf.constant([[0.1,0.9,0.8],[0.05,0.95,0]]))\n",
    "print('Final result:', s.result().numpy())"
   ]
  },
  {
   "cell_type": "code",
   "execution_count": 12,
   "metadata": {},
   "outputs": [
    {
     "name": "stdout",
     "output_type": "stream",
     "text": [
      "Final result: 0.5\n"
     ]
    }
   ],
   "source": [
    "m = tf.keras.metrics.SparseCategoricalAccuracy()\n",
    "m.update_state(tf.constant([2,1]),tf.constant([[0.1,0.9,0.8],[0.05,0.95,0]]))\n",
    "print('Final result:', m.result().numpy())"
   ]
  },
  {
   "cell_type": "code",
   "execution_count": null,
   "metadata": {},
   "outputs": [],
   "source": []
  }
 ],
 "metadata": {
  "kernelspec": {
   "display_name": "Python 3",
   "language": "python",
   "name": "python3"
  },
  "language_info": {
   "codemirror_mode": {
    "name": "ipython",
    "version": 3
   },
   "file_extension": ".py",
   "mimetype": "text/x-python",
   "name": "python",
   "nbconvert_exporter": "python",
   "pygments_lexer": "ipython3",
   "version": "3.7.7"
  }
 },
 "nbformat": 4,
 "nbformat_minor": 4
}
